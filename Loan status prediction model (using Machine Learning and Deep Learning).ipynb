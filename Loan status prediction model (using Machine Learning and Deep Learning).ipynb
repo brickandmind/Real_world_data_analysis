{
 "cells": [
  {
   "cell_type": "markdown",
   "metadata": {},
   "source": [
    "# Loan pay-off status prediction model (using Machine Learning)\n",
    "The purpose of this project is building a prediction model for loan status using Machine Learning (including deep learning)\n",
    "\n",
    "the data sets are from Kaggle's Lending Club Loan Data. It is composed of loan.csv, LCDataDicctionary.xlsx and database.sqlite. Lending Club is a loan company which provides diverse loans, such as mortgagse and short-term debts\n",
    "\n",
    "URL : https://www.kaggle.com/wendykan/lending-club-loan-data/data\n",
    "\n",
    "Data analysis work flow\n",
    "1. Scanning data set\n",
    "2. Planning data analysis purpose\n",
    "3. Exploratory Data analysis \n",
    "4. Data pre-processing\n",
    "5. Comparison of statistical models\n",
    "6. Model fine-tunnig\n",
    "7. Results"
   ]
  },
  {
   "cell_type": "markdown",
   "metadata": {},
   "source": [
    "### Scanning data set (excel)\n",
    "Using excel, i scanned through overall variables and data characteristics of loan.csv. The characteristics of varialbes are as follow\n",
    "\n",
    "1. Variables can be categorized into three groups\n",
    "    a. variables containing data direclty related to LC(Lending Club)'s customers' financial status\n",
    "    b. variables indirectly realted to customers' financial stauts\n",
    "    c. Varaibles regarding types of loans \n",
    "2. 5~10 variables contain signifiactly many missing values\n",
    "3. There are variables whose data contain similar information with others, such as zip code and states.\n",
    "4. There are varibles, such as 'title' and 'desc', whose data are natural language\n",
    "5. This data set seems not to be gathered for a specific purpose. Many of the data are mis arranged(classified) "
   ]
  },
  {
   "cell_type": "markdown",
   "metadata": {},
   "source": [
    "### Planning data analysis process\n",
    "Setting Data Analysis Purpose:\n",
    "\n",
    "Considering the characteristics of Lending Club, its most interest is recognizing customers who will fully pay off their loans. Given limits of the data, I decided to build a model for predicting , among the curret customers, who are likley to pay back thier loans or not\n",
    "For this purpose, i am going to use 'loan_stauts' variable as an independent varaible y."
   ]
  },
  {
   "cell_type": "code",
   "execution_count": 142,
   "metadata": {
    "collapsed": true
   },
   "outputs": [],
   "source": [
    "import pandas as pd\n",
    "import numpy as np\n",
    "import seaborn as sb\n",
    "import matplotlib.pyplot as plt"
   ]
  },
  {
   "cell_type": "code",
   "execution_count": 143,
   "metadata": {},
   "outputs": [
    {
     "name": "stderr",
     "output_type": "stream",
     "text": [
      "C:\\Users\\Changsik\\Anaconda3\\lib\\site-packages\\IPython\\core\\interactiveshell.py:2698: DtypeWarning: Columns (19,55) have mixed types. Specify dtype option on import or set low_memory=False.\n",
      "  interactivity=interactivity, compiler=compiler, result=result)\n"
     ]
    }
   ],
   "source": [
    "df1 = pd.read_csv('loan.csv')"
   ]
  },
  {
   "cell_type": "code",
   "execution_count": 144,
   "metadata": {
    "collapsed": true
   },
   "outputs": [],
   "source": [
    "df = df1.copy()"
   ]
  },
  {
   "cell_type": "markdown",
   "metadata": {},
   "source": [
    "Based on the grouping of the values of 'loan_status', it is cateorized more specifically then just 'fully paid or nor'"
   ]
  },
  {
   "cell_type": "code",
   "execution_count": 145,
   "metadata": {
    "scrolled": true
   },
   "outputs": [
    {
     "data": {
      "text/plain": [
       "loan_status\n",
       "Charged Off                                             45248\n",
       "Current                                                601779\n",
       "Default                                                  1219\n",
       "Does not meet the credit policy. Status:Charged Off       761\n",
       "Does not meet the credit policy. Status:Fully Paid       1988\n",
       "Fully Paid                                             207723\n",
       "In Grace Period                                          6253\n",
       "Issued                                                   8460\n",
       "Late (16-30 days)                                        2357\n",
       "Late (31-120 days)                                      11591\n",
       "dtype: int64"
      ]
     },
     "metadata": {},
     "output_type": "display_data"
    }
   ],
   "source": [
    "display(df.groupby('loan_status').size())"
   ]
  },
  {
   "cell_type": "markdown",
   "metadata": {},
   "source": [
    "### Data pre-processing & Exploratory data analysis\n",
    "For the ease of analyzing data, i pre-selected variables which seem to provide valuable information at prediciting 'loan_status. I created an additional column in LCDataDictionary excel file and entered value '1' to the row which is placed right next to the variables i am going to analyze late"
   ]
  },
  {
   "cell_type": "code",
   "execution_count": 146,
   "metadata": {},
   "outputs": [],
   "source": [
    "df_name = pd.read_excel('LCDataDictionary.xlsx')"
   ]
  },
  {
   "cell_type": "code",
   "execution_count": 147,
   "metadata": {
    "collapsed": true
   },
   "outputs": [],
   "source": [
    "# LCDataDictionary is an excel file containing variable description. I created a column whoes value is either none, or 1\n",
    "# the row with vlaue 1 means the variable in that row seems to be necessary in predicting who are going to charge-off\n",
    "# Thus, i created 'needed_columns' list containing the names of columns i am going to use in my model\n",
    "df_name = df_name[df_name['number'] == 1]\n",
    "needed_columns = [name for name in df_name.iloc[:, 0]]"
   ]
  },
  {
   "cell_type": "markdown",
   "metadata": {},
   "source": [
    "As some of the variables i selected fo LCDataDictionary file does not exitst in loan.csv, i deleted those not in the column names of loan.csv"
   ]
  },
  {
   "cell_type": "code",
   "execution_count": 148,
   "metadata": {
    "collapsed": true
   },
   "outputs": [],
   "source": [
    "# needed_columns has varaibles whcih does not exist in 'df' of the loan.csv\n",
    "column_names = []\n",
    "for x in needed_columns:\n",
    "    if x in df.columns:\n",
    "        column_names.append(x)\n",
    "df = df[column_names]"
   ]
  },
  {
   "cell_type": "markdown",
   "metadata": {},
   "source": [
    "'loan_status' can be categorized into three groups: \n",
    " 1. fully paid, \n",
    " 2. paid off late (Default, In Grace Period, Late(16-30), Late(31-120)),\n",
    " 3. charged off (note likely to be collected in the future)\n",
    " \n",
    " the two other groups, which are \"Does not meet the credit policy. Status:Charged Off\" and \"Does not meet the credit policy. Status:Fully Paid\", are redundent information. When it comes to \"Current\", it does not provied anty information on final loan status(whther it got fuly paid or not). Thus, i deleted them"
   ]
  },
  {
   "cell_type": "code",
   "execution_count": 149,
   "metadata": {
    "collapsed": true
   },
   "outputs": [],
   "source": [
    "# i am not interested in the loan currently on going\n",
    "lis = ['Current','Issued','Does not meet the credit policy. Status:Charged Off' ,'Does not meet the credit policy. Status:Fully Paid']\n",
    "for x in lis:\n",
    "    df = df[df['loan_status'] != x]"
   ]
  },
  {
   "cell_type": "code",
   "execution_count": 150,
   "metadata": {},
   "outputs": [
    {
     "data": {
      "text/plain": [
       "loan_status\n",
       "Charged Off            45248\n",
       "Default                 1219\n",
       "Fully Paid            207723\n",
       "In Grace Period         6253\n",
       "Late (16-30 days)       2357\n",
       "Late (31-120 days)     11591\n",
       "dtype: int64"
      ]
     },
     "metadata": {},
     "output_type": "display_data"
    }
   ],
   "source": [
    "display(df.groupby('loan_status').size())"
   ]
  },
  {
   "cell_type": "code",
   "execution_count": 151,
   "metadata": {
    "collapsed": true
   },
   "outputs": [],
   "source": [
    "lis = []\n",
    "for x in df['loan_status']:\n",
    "    if x == 'Charged Off':\n",
    "        lis.append('charged_off')\n",
    "    elif x == 'Fully Paid':\n",
    "        lis.append('fully_paid')\n",
    "    else:\n",
    "        lis.append('late')\n"
   ]
  },
  {
   "cell_type": "code",
   "execution_count": 152,
   "metadata": {
    "collapsed": true
   },
   "outputs": [],
   "source": [
    "status_lis = lis"
   ]
  },
  {
   "cell_type": "code",
   "execution_count": 153,
   "metadata": {
    "collapsed": true
   },
   "outputs": [],
   "source": [
    "status = pd.DataFrame({'loan_status' : lis})\n",
    "df['loan_status'] = status['loan_status'].values"
   ]
  },
  {
   "cell_type": "code",
   "execution_count": 154,
   "metadata": {},
   "outputs": [
    {
     "data": {
      "text/plain": [
       "loan_status\n",
       "charged_off     45248\n",
       "fully_paid     207723\n",
       "late            21420\n",
       "dtype: int64"
      ]
     },
     "metadata": {},
     "output_type": "display_data"
    }
   ],
   "source": [
    "display(df.groupby('loan_status').size())"
   ]
  },
  {
   "cell_type": "markdown",
   "metadata": {},
   "source": [
    "When i scanned through loan.csv, i could find variables containing significat proportion of missing values. thus, I coded the find variables whose proportion of missing values to the overall data is more than 40%"
   ]
  },
  {
   "cell_type": "code",
   "execution_count": 155,
   "metadata": {
    "scrolled": true
   },
   "outputs": [
    {
     "name": "stdout",
     "output_type": "stream",
     "text": [
      "annual_inc_joint               0.999978\n",
      "inq_last_12m                   0.999176\n",
      "total_cu_tl                    0.999176\n",
      "inq_fi                         0.999176\n",
      "all_util                       0.999176\n",
      "open_rv_24m                    0.999176\n",
      "open_il_24m                    0.999176\n",
      "open_il_6m                     0.999176\n",
      "open_acc_6m                    0.999176\n",
      "mths_since_last_record         0.871618\n",
      "mths_since_last_major_derog    0.803510\n",
      "desc                           0.671134\n",
      "mths_since_last_delinq         0.549329\n",
      "dtype: float64\n"
     ]
    }
   ],
   "source": [
    "check_null = df.isnull().sum().sort_values(ascending=False)/len(df)\n",
    "print(check_null[check_null>0.3])"
   ]
  },
  {
   "cell_type": "markdown",
   "metadata": {},
   "source": [
    "Among varialbes detected above, i decided to retain three variales at the bottom ('mths_since_last_delinq', 'mths_since_last_major_derog','mths_since_last_delinq') for two reasons:\n",
    "1. Desipte their highg missing vlaue proportion, their information is valuable enough to retain\n",
    "2. It seems their missing values represent 0 (or, can be replaced by 0) considering their non-null values do not contain 0\n",
    "\n",
    "When it comes to the varialbe \"desc\", its information overlap with that of \"purpose\". Thus, i deleted it"
   ]
  },
  {
   "cell_type": "code",
   "execution_count": 156,
   "metadata": {
    "collapsed": true
   },
   "outputs": [],
   "source": [
    "# deleted the variables with high missing values\n",
    "# decided to keeep the last 3 variables due to the reasons below \n",
    "# 1 : it is reasonable to fill the missing values with 0\n",
    "# 2 : there values are worth enough to keep despite of high propotion of missing values\n",
    "\n",
    "column = list(check_null[check_null>0.90].index)\n",
    "for x in column:\n",
    "    del df[x]\n",
    "del df['desc']"
   ]
  },
  {
   "cell_type": "markdown",
   "metadata": {},
   "source": [
    "Filled missing values of the retained three variables with 0.\n",
    "Based on the definition of those three variables, i thought that it is important whether existence of record(derogatory action, or delinquency), not how long time has passed since those acts(record). Thus, i transformed their data to either 0(if value is 0) or 1 (if value is not 0 ) - i am going to use them as categorical varialbes later"
   ]
  },
  {
   "cell_type": "code",
   "execution_count": 157,
   "metadata": {
    "collapsed": true
   },
   "outputs": [],
   "source": [
    "#filled missing values with 0\n",
    "df['mths_since_last_record'].fillna(value = 0, inplace=True)\n",
    "df['mths_since_last_major_derog'].fillna(value = 0, inplace=True)\n",
    "df['mths_since_last_delinq'].fillna(value = 0, inplace=True)"
   ]
  },
  {
   "cell_type": "code",
   "execution_count": 158,
   "metadata": {
    "collapsed": true
   },
   "outputs": [],
   "source": [
    "def make_categorical(variable):\n",
    "    df[variable] = df[variable].apply(lambda x: 0 if x == 0.0 else 1.0)\n",
    "    return df[variable]"
   ]
  },
  {
   "cell_type": "code",
   "execution_count": 159,
   "metadata": {
    "collapsed": true
   },
   "outputs": [],
   "source": [
    "lis = ['mths_since_last_record', 'mths_since_last_major_derog', 'mths_since_last_delinq']\n",
    "for x in lis:\n",
    "    make_categorical(x)"
   ]
  },
  {
   "cell_type": "markdown",
   "metadata": {},
   "source": [
    "Checked if there are other variables which have missing values, and filled their missing values with data of types appropriate for each of them"
   ]
  },
  {
   "cell_type": "code",
   "execution_count": 160,
   "metadata": {
    "scrolled": false
   },
   "outputs": [
    {
     "name": "stdout",
     "output_type": "stream",
     "text": [
      "tot_cur_bal           0.233025\n",
      "tot_coll_amt          0.233025\n",
      "emp_title             0.055505\n",
      "last_credit_pull_d    0.000080\n",
      "title                 0.000044\n",
      "dtype: float64\n"
     ]
    }
   ],
   "source": [
    "check_null = df.isnull().sum().sort_values(ascending=False)/len(df)\n",
    "checked_null = check_null[check_null != 0]\n",
    "print(checked_null)"
   ]
  },
  {
   "cell_type": "code",
   "execution_count": 161,
   "metadata": {
    "collapsed": true
   },
   "outputs": [],
   "source": [
    "checked_null = pd.DataFrame(checked_null)\n",
    "checked_null['index1'] = checked_null.index\n",
    "lis = []\n",
    "for x in checked_null['index1']:\n",
    "    lis.append(x)"
   ]
  },
  {
   "cell_type": "markdown",
   "metadata": {},
   "source": [
    "Handling with the varialbes containing missing values\n",
    "1. As i am not going to use datettime date, i delted \"ast_credit_pull_d\"\n",
    "2. filled missing values of \"title\" with \"no_title\"\n",
    "3. filled that of \"tot_cur_bal\" with mean\n",
    "4. filled that of \"'tot_coll_amt'\" with 0 as its most frequent value is 0 \n"
   ]
  },
  {
   "cell_type": "code",
   "execution_count": 162,
   "metadata": {
    "scrolled": true
   },
   "outputs": [
    {
     "data": {
      "text/html": [
       "<div>\n",
       "<style>\n",
       "    .dataframe thead tr:only-child th {\n",
       "        text-align: right;\n",
       "    }\n",
       "\n",
       "    .dataframe thead th {\n",
       "        text-align: left;\n",
       "    }\n",
       "\n",
       "    .dataframe tbody tr th {\n",
       "        vertical-align: top;\n",
       "    }\n",
       "</style>\n",
       "<table border=\"1\" class=\"dataframe\">\n",
       "  <thead>\n",
       "    <tr style=\"text-align: right;\">\n",
       "      <th></th>\n",
       "      <th>tot_cur_bal</th>\n",
       "      <th>tot_coll_amt</th>\n",
       "      <th>emp_title</th>\n",
       "      <th>last_credit_pull_d</th>\n",
       "      <th>title</th>\n",
       "    </tr>\n",
       "  </thead>\n",
       "  <tbody>\n",
       "    <tr>\n",
       "      <th>0</th>\n",
       "      <td>NaN</td>\n",
       "      <td>NaN</td>\n",
       "      <td>NaN</td>\n",
       "      <td>Jan-2016</td>\n",
       "      <td>Computer</td>\n",
       "    </tr>\n",
       "    <tr>\n",
       "      <th>1</th>\n",
       "      <td>NaN</td>\n",
       "      <td>NaN</td>\n",
       "      <td>Ryder</td>\n",
       "      <td>Sep-2013</td>\n",
       "      <td>bike</td>\n",
       "    </tr>\n",
       "    <tr>\n",
       "      <th>2</th>\n",
       "      <td>NaN</td>\n",
       "      <td>NaN</td>\n",
       "      <td>NaN</td>\n",
       "      <td>Jan-2016</td>\n",
       "      <td>real estate business</td>\n",
       "    </tr>\n",
       "    <tr>\n",
       "      <th>3</th>\n",
       "      <td>NaN</td>\n",
       "      <td>NaN</td>\n",
       "      <td>AIR RESOURCES BOARD</td>\n",
       "      <td>Jan-2015</td>\n",
       "      <td>personel</td>\n",
       "    </tr>\n",
       "    <tr>\n",
       "      <th>5</th>\n",
       "      <td>NaN</td>\n",
       "      <td>NaN</td>\n",
       "      <td>Veolia Transportaton</td>\n",
       "      <td>Sep-2015</td>\n",
       "      <td>My wedding loan I promise to pay back</td>\n",
       "    </tr>\n",
       "  </tbody>\n",
       "</table>\n",
       "</div>"
      ],
      "text/plain": [
       "   tot_cur_bal  tot_coll_amt             emp_title last_credit_pull_d  \\\n",
       "0          NaN           NaN                   NaN           Jan-2016   \n",
       "1          NaN           NaN                 Ryder           Sep-2013   \n",
       "2          NaN           NaN                   NaN           Jan-2016   \n",
       "3          NaN           NaN   AIR RESOURCES BOARD           Jan-2015   \n",
       "5          NaN           NaN  Veolia Transportaton           Sep-2015   \n",
       "\n",
       "                                   title  \n",
       "0                               Computer  \n",
       "1                                   bike  \n",
       "2                   real estate business  \n",
       "3                               personel  \n",
       "5  My wedding loan I promise to pay back  "
      ]
     },
     "metadata": {},
     "output_type": "display_data"
    }
   ],
   "source": [
    "display(df[lis].head())"
   ]
  },
  {
   "cell_type": "markdown",
   "metadata": {},
   "source": [
    "last_credit_pull 변수의 경우 datetime 데이터이고, 또 정확히 어떤 정보를 의미하는지 부정확해서 삭제 하였습니다.\n",
    "title의 경우 purpose 변수가 대체를 할 수 있기에 삭제했습니다\n",
    "emp_title 경우 ----\n",
    "tot_cir_bal 의 경우 편균값으로, tot_coll_amt의 경우 0으로 null값을 변환 신켰습니다"
   ]
  },
  {
   "cell_type": "code",
   "execution_count": 163,
   "metadata": {
    "collapsed": true
   },
   "outputs": [],
   "source": [
    "del df['last_credit_pull_d']\n",
    "del df['emp_title']\n",
    "del df['title']\n",
    "df['tot_cur_bal'].fillna(df['tot_cur_bal'].mean(), inplace=True)\n",
    "df['tot_coll_amt'].fillna(0, inplace=True)"
   ]
  },
  {
   "cell_type": "markdown",
   "metadata": {},
   "source": [
    "I checked number of groups of values each varaibles and number of values each groups contain, to delete or transfrom to categorical variable  "
   ]
  },
  {
   "cell_type": "code",
   "execution_count": 164,
   "metadata": {
    "scrolled": true
   },
   "outputs": [
    {
     "name": "stdout",
     "output_type": "stream",
     "text": [
      "3 application_type\n",
      "INDIVIDUAL    274385\n",
      "JOINT              6\n",
      "dtype: int64 \n",
      "\n",
      "8 grade\n",
      "A    43334\n",
      "B    79917\n",
      "C    71584\n",
      "D    45682\n",
      "E    22515\n",
      "F     9016\n",
      "G     2343\n",
      "dtype: int64 \n",
      "\n",
      "9 home_ownership\n",
      "ANY              1\n",
      "MORTGAGE    134317\n",
      "NONE            43\n",
      "OTHER          141\n",
      "OWN          24204\n",
      "RENT        115685\n",
      "dtype: int64 \n",
      "\n",
      "10 initial_list_status\n",
      "f    193471\n",
      "w     80920\n",
      "dtype: int64 \n",
      "\n",
      "11 inq_last_6mths\n",
      "0.0    134409\n",
      "1.0     79037\n",
      "2.0     37511\n",
      "3.0     17211\n",
      "4.0      4079\n",
      "5.0      1523\n",
      "6.0       557\n",
      "7.0        46\n",
      "8.0        18\n",
      "dtype: int64 \n",
      "\n",
      "14 loan_status\n",
      "charged_off     45248\n",
      "fully_paid     207723\n",
      "late            21420\n",
      "dtype: int64 \n",
      "\n",
      "15 mths_since_last_delinq\n",
      "0.0    151353\n",
      "1.0    123038\n",
      "dtype: int64 \n",
      "\n",
      "16 mths_since_last_major_derog\n",
      "0.0    220511\n",
      "1.0     53880\n",
      "dtype: int64 \n",
      "\n",
      "17 mths_since_last_record\n",
      "0.0    239837\n",
      "1.0     34554\n",
      "dtype: int64 \n",
      "\n",
      "19 policy_code\n",
      "1.0    274391\n",
      "dtype: int64 \n",
      "\n",
      "22 pymnt_plan\n",
      "n    274384\n",
      "y         7\n",
      "dtype: int64 \n",
      "\n",
      "24 term\n",
      " 36 months    209857\n",
      " 60 months     64534\n",
      "dtype: int64 \n",
      "\n",
      "27 acc_now_delinq\n",
      "0.0    273508\n",
      "1.0       832\n",
      "2.0        44\n",
      "3.0         3\n",
      "4.0         2\n",
      "5.0         2\n",
      "dtype: int64 \n",
      "\n"
     ]
    }
   ],
   "source": [
    "i = 0\n",
    "for x in df.columns:\n",
    "    i = i+1\n",
    "    if len(df.groupby(x).size())<10:\n",
    "        print(i, df.groupby(x).size(), '\\n')"
   ]
  },
  {
   "cell_type": "markdown",
   "metadata": {},
   "source": [
    "i deleted variables \"application_type\", 'policy_code' and 'pymnt_plan' for the following reasong:\n",
    " - One group of the variable's values contains more than 98% of the number of values\n",
    "\n",
    "When it comes to the varaible \"acc_now_delinq\", it has the same characteristics with the variables above. However, i decided to transforming it to categorical variale (0 for 0, 1 for all other values) as i belive it contains information valuable enough to retain\n",
    "\n",
    "In the case of the variable \"home_ownership\", the number of values categorized as either 'any', 'none, or 'other' is too small that i grouped them together under the name 'undefined'"
   ]
  },
  {
   "cell_type": "code",
   "execution_count": 165,
   "metadata": {},
   "outputs": [
    {
     "data": {
      "text/plain": [
       "0         0.0\n",
       "1         0.0\n",
       "2         0.0\n",
       "3         0.0\n",
       "5         0.0\n",
       "7         0.0\n",
       "8         0.0\n",
       "9         0.0\n",
       "10        0.0\n",
       "11        0.0\n",
       "12        0.0\n",
       "13        0.0\n",
       "14        0.0\n",
       "15        0.0\n",
       "16        0.0\n",
       "17        0.0\n",
       "18        0.0\n",
       "19        0.0\n",
       "20        0.0\n",
       "21        0.0\n",
       "22        0.0\n",
       "23        0.0\n",
       "24        0.0\n",
       "25        0.0\n",
       "26        0.0\n",
       "27        0.0\n",
       "28        0.0\n",
       "29        0.0\n",
       "30        0.0\n",
       "31        0.0\n",
       "         ... \n",
       "887198    0.0\n",
       "887202    0.0\n",
       "887215    0.0\n",
       "887231    0.0\n",
       "887248    0.0\n",
       "887249    0.0\n",
       "887254    0.0\n",
       "887258    0.0\n",
       "887263    0.0\n",
       "887264    0.0\n",
       "887268    0.0\n",
       "887275    0.0\n",
       "887276    0.0\n",
       "887279    0.0\n",
       "887280    0.0\n",
       "887290    0.0\n",
       "887303    0.0\n",
       "887308    0.0\n",
       "887322    0.0\n",
       "887330    0.0\n",
       "887332    0.0\n",
       "887337    0.0\n",
       "887345    0.0\n",
       "887346    0.0\n",
       "887347    0.0\n",
       "887351    0.0\n",
       "887364    0.0\n",
       "887366    0.0\n",
       "887369    0.0\n",
       "887371    0.0\n",
       "Name: acc_now_delinq, Length: 274391, dtype: float64"
      ]
     },
     "execution_count": 165,
     "metadata": {},
     "output_type": "execute_result"
    }
   ],
   "source": [
    "lis = ['application_type', 'policy_code', 'pymnt_plan']\n",
    "for x in lis:\n",
    "    del df[x]\n",
    "    \n",
    "df['home_ownership'] = df['home_ownership'].apply(lambda x : x if x not in ['ANY', 'NONE', 'OTHER'] else 'UNDEFINED')\n",
    "make_categorical('acc_now_delinq')\n"
   ]
  },
  {
   "cell_type": "markdown",
   "metadata": {},
   "source": [
    "As the information of \"sub_grade\" overlabs with that of \"grade\", i deleted it"
   ]
  },
  {
   "cell_type": "code",
   "execution_count": 166,
   "metadata": {
    "collapsed": true
   },
   "outputs": [],
   "source": [
    "del df['sub_grade']"
   ]
  },
  {
   "cell_type": "markdown",
   "metadata": {},
   "source": [
    "By giving the limit of the number of groups of values as 1000, i tried to find out variables which should be transformed to categorical variable, or is categorical variable whose values to be converted to binary data (one hot encoding to say)"
   ]
  },
  {
   "cell_type": "code",
   "execution_count": 167,
   "metadata": {},
   "outputs": [
    {
     "name": "stdout",
     "output_type": "stream",
     "text": [
      "1 addr_state\n",
      "AK      717\n",
      "AL     3470\n",
      "AR     1918\n",
      "AZ     6591\n",
      "CA    46195\n",
      "CO     6003\n",
      "CT     3977\n",
      "DC      866\n",
      "DE      731\n",
      "FL    19097\n",
      "GA     8680\n",
      "HI     1627\n",
      "IA        6\n",
      "ID        6\n",
      "IL     9933\n",
      "IN     3128\n",
      "KS     2213\n",
      "KY     2426\n",
      "LA     3236\n",
      "MA     6621\n",
      "MD     6567\n",
      "ME       14\n",
      "MI     6542\n",
      "MN     4829\n",
      "MO     4231\n",
      "MS      532\n",
      "MT      802\n",
      "NC     7572\n",
      "ND       12\n",
      "NE       55\n",
      "NH     1234\n",
      "NJ    10416\n",
      "NM     1507\n",
      "NV     4163\n",
      "NY    23446\n",
      "OH     8383\n",
      "OK     2372\n",
      "OR     3579\n",
      "PA     9197\n",
      "RI     1186\n",
      "SC     3043\n",
      "SD      594\n",
      "TN     2782\n",
      "TX    21012\n",
      "UT     2265\n",
      "VA     8655\n",
      "VT      455\n",
      "WA     6321\n",
      "WI     3307\n",
      "WV     1240\n",
      "WY      637\n",
      "dtype: int64 \n",
      "\n",
      "3 delinq_2yrs\n",
      "0.0     228524\n",
      "1.0      31309\n",
      "2.0       8874\n",
      "3.0       3017\n",
      "4.0       1239\n",
      "5.0        637\n",
      "6.0        326\n",
      "7.0        176\n",
      "8.0        103\n",
      "9.0         63\n",
      "10.0        39\n",
      "11.0        23\n",
      "12.0        26\n",
      "13.0         8\n",
      "14.0         9\n",
      "15.0         5\n",
      "16.0         2\n",
      "17.0         2\n",
      "18.0         4\n",
      "19.0         1\n",
      "20.0         1\n",
      "21.0         1\n",
      "22.0         1\n",
      "29.0         1\n",
      "dtype: int64 \n",
      "\n",
      "5 earliest_cr_line\n",
      "Apr-1955       1\n",
      "Apr-1962       1\n",
      "Apr-1963       1\n",
      "Apr-1964       6\n",
      "Apr-1965       3\n",
      "Apr-1966       7\n",
      "Apr-1967      12\n",
      "Apr-1968      11\n",
      "Apr-1969      12\n",
      "Apr-1970      22\n",
      "Apr-1971      14\n",
      "Apr-1972      16\n",
      "Apr-1973      32\n",
      "Apr-1974      28\n",
      "Apr-1975      35\n",
      "Apr-1976      47\n",
      "Apr-1977      61\n",
      "Apr-1978      82\n",
      "Apr-1979      96\n",
      "Apr-1980      94\n",
      "Apr-1981     107\n",
      "Apr-1982     119\n",
      "Apr-1983     157\n",
      "Apr-1984     177\n",
      "Apr-1985     237\n",
      "Apr-1986     260\n",
      "Apr-1987     301\n",
      "Apr-1988     370\n",
      "Apr-1989     430\n",
      "Apr-1990     467\n",
      "            ... \n",
      "Sep-1983     190\n",
      "Sep-1984     241\n",
      "Sep-1985     223\n",
      "Sep-1986     294\n",
      "Sep-1987     302\n",
      "Sep-1988     403\n",
      "Sep-1989     434\n",
      "Sep-1990     546\n",
      "Sep-1991     465\n",
      "Sep-1992     507\n",
      "Sep-1993     782\n",
      "Sep-1994     948\n",
      "Sep-1995    1202\n",
      "Sep-1996    1152\n",
      "Sep-1997    1249\n",
      "Sep-1998    1541\n",
      "Sep-1999    1786\n",
      "Sep-2000    1909\n",
      "Sep-2001    1857\n",
      "Sep-2002    1778\n",
      "Sep-2003    1630\n",
      "Sep-2004    1385\n",
      "Sep-2005    1144\n",
      "Sep-2006    1076\n",
      "Sep-2007     740\n",
      "Sep-2008     391\n",
      "Sep-2009     212\n",
      "Sep-2010     173\n",
      "Sep-2011      67\n",
      "Sep-2012       1\n",
      "Length: 649, dtype: int64 \n",
      "\n",
      "6 emp_length\n",
      "1 year       18295\n",
      "10+ years    83448\n",
      "2 years      25479\n",
      "3 years      22170\n",
      "4 years      17455\n",
      "5 years      19346\n",
      "6 years      15855\n",
      "7 years      15181\n",
      "8 years      12921\n",
      "9 years      10436\n",
      "< 1 year     22738\n",
      "n/a          11067\n",
      "dtype: int64 \n",
      "\n",
      "7 grade\n",
      "A    43334\n",
      "B    79917\n",
      "C    71584\n",
      "D    45682\n",
      "E    22515\n",
      "F     9016\n",
      "G     2343\n",
      "dtype: int64 \n",
      "\n",
      "8 home_ownership\n",
      "MORTGAGE     134317\n",
      "OWN           24204\n",
      "RENT         115685\n",
      "UNDEFINED       185\n",
      "dtype: int64 \n",
      "\n",
      "9 initial_list_status\n",
      "f    193471\n",
      "w     80920\n",
      "dtype: int64 \n",
      "\n",
      "10 inq_last_6mths\n",
      "0.0    134409\n",
      "1.0     79037\n",
      "2.0     37511\n",
      "3.0     17211\n",
      "4.0      4079\n",
      "5.0      1523\n",
      "6.0       557\n",
      "7.0        46\n",
      "8.0        18\n",
      "dtype: int64 \n",
      "\n",
      "12 int_rate\n",
      "5.32      186\n",
      "5.42      573\n",
      "5.79      410\n",
      "5.93      128\n",
      "5.99      347\n",
      "6.00       51\n",
      "6.03     4936\n",
      "6.17      252\n",
      "6.24      210\n",
      "6.39      265\n",
      "6.49     1044\n",
      "6.54      305\n",
      "6.62     3581\n",
      "6.68      208\n",
      "6.76      168\n",
      "6.89      208\n",
      "6.91      303\n",
      "6.92      584\n",
      "6.97      188\n",
      "6.99      613\n",
      "7.05       23\n",
      "7.12      703\n",
      "7.14      341\n",
      "7.26      285\n",
      "7.29      387\n",
      "7.37       31\n",
      "7.40       72\n",
      "7.42        7\n",
      "7.43       26\n",
      "7.49     1095\n",
      "         ... \n",
      "23.70     305\n",
      "23.76     258\n",
      "23.83     225\n",
      "23.91      12\n",
      "23.99     405\n",
      "24.08     865\n",
      "24.11       8\n",
      "24.20      26\n",
      "24.33      19\n",
      "24.40       1\n",
      "24.50    1099\n",
      "24.52       4\n",
      "24.70     142\n",
      "24.76       5\n",
      "24.83      78\n",
      "24.89     216\n",
      "24.99     807\n",
      "25.28     111\n",
      "25.57     556\n",
      "25.78      75\n",
      "25.80     481\n",
      "25.83     370\n",
      "25.89     281\n",
      "25.99     186\n",
      "26.06     159\n",
      "26.77      65\n",
      "27.31      55\n",
      "27.88      27\n",
      "28.49      23\n",
      "28.99      26\n",
      "Length: 513, dtype: int64 \n",
      "\n",
      "13 loan_status\n",
      "charged_off     45248\n",
      "fully_paid     207723\n",
      "late            21420\n",
      "dtype: int64 \n",
      "\n",
      "14 mths_since_last_delinq\n",
      "0.0    151353\n",
      "1.0    123038\n",
      "dtype: int64 \n",
      "\n",
      "15 mths_since_last_major_derog\n",
      "0.0    220511\n",
      "1.0     53880\n",
      "dtype: int64 \n",
      "\n",
      "16 mths_since_last_record\n",
      "0.0    239837\n",
      "1.0     34554\n",
      "dtype: int64 \n",
      "\n",
      "17 open_acc\n",
      "0.0         6\n",
      "1.0        49\n",
      "2.0      1282\n",
      "3.0      3747\n",
      "4.0      8041\n",
      "5.0     13413\n",
      "6.0     19079\n",
      "7.0     22616\n",
      "8.0     25050\n",
      "9.0     26280\n",
      "10.0    24835\n",
      "11.0    22912\n",
      "12.0    20218\n",
      "13.0    16922\n",
      "14.0    14208\n",
      "15.0    11461\n",
      "16.0     9507\n",
      "17.0     7509\n",
      "18.0     6094\n",
      "19.0     4882\n",
      "20.0     3731\n",
      "21.0     2930\n",
      "22.0     2275\n",
      "23.0     1729\n",
      "24.0     1393\n",
      "25.0     1011\n",
      "26.0      720\n",
      "27.0      580\n",
      "28.0      396\n",
      "29.0      308\n",
      "30.0      247\n",
      "31.0      178\n",
      "32.0      173\n",
      "33.0      130\n",
      "34.0      103\n",
      "35.0       70\n",
      "36.0       63\n",
      "37.0       51\n",
      "38.0       36\n",
      "39.0       28\n",
      "40.0       24\n",
      "41.0       20\n",
      "42.0       17\n",
      "43.0       13\n",
      "44.0        8\n",
      "45.0        8\n",
      "46.0        7\n",
      "47.0        7\n",
      "48.0        3\n",
      "49.0        4\n",
      "50.0        3\n",
      "51.0        1\n",
      "52.0        3\n",
      "53.0        2\n",
      "54.0        2\n",
      "55.0        1\n",
      "56.0        1\n",
      "58.0        2\n",
      "76.0        2\n",
      "dtype: int64 \n",
      "\n",
      "18 pub_rec\n",
      "0.0     239834\n",
      "1.0      30334\n",
      "2.0       2962\n",
      "3.0        802\n",
      "4.0        249\n",
      "5.0        109\n",
      "6.0         53\n",
      "7.0         20\n",
      "8.0          9\n",
      "9.0          7\n",
      "10.0         5\n",
      "11.0         3\n",
      "12.0         2\n",
      "15.0         1\n",
      "20.0         1\n",
      "dtype: int64 \n",
      "\n",
      "19 purpose\n",
      "car                     3781\n",
      "credit_card            53936\n",
      "debt_consolidation    162080\n",
      "educational              325\n",
      "home_improvement       16142\n",
      "house                   1772\n",
      "major_purchase          6662\n",
      "medical                 3067\n",
      "moving                  2195\n",
      "other                  15383\n",
      "renewable_energy         284\n",
      "small_business          5084\n",
      "vacation                1714\n",
      "wedding                 1966\n",
      "dtype: int64 \n",
      "\n",
      "20 term\n",
      " 36 months    209857\n",
      " 60 months     64534\n",
      "dtype: int64 \n",
      "\n",
      "21 total_acc\n",
      "2.0         16\n",
      "3.0        311\n",
      "4.0       1021\n",
      "5.0       1568\n",
      "6.0       2272\n",
      "7.0       3045\n",
      "8.0       3971\n",
      "9.0       4675\n",
      "10.0      5585\n",
      "11.0      6242\n",
      "12.0      6974\n",
      "13.0      7846\n",
      "14.0      8173\n",
      "15.0      8735\n",
      "16.0      9078\n",
      "17.0      9581\n",
      "18.0      9594\n",
      "19.0      9709\n",
      "20.0     10020\n",
      "21.0      9979\n",
      "22.0      9909\n",
      "23.0      9661\n",
      "24.0      9445\n",
      "25.0      9083\n",
      "26.0      8717\n",
      "27.0      8395\n",
      "28.0      8032\n",
      "29.0      7657\n",
      "30.0      7189\n",
      "31.0      6680\n",
      "         ...  \n",
      "81.0        16\n",
      "82.0         8\n",
      "83.0         9\n",
      "84.0        10\n",
      "85.0         8\n",
      "86.0         2\n",
      "87.0         9\n",
      "88.0         8\n",
      "89.0         4\n",
      "90.0         6\n",
      "91.0         6\n",
      "92.0         4\n",
      "93.0         3\n",
      "94.0         2\n",
      "95.0         2\n",
      "96.0         1\n",
      "97.0         1\n",
      "98.0         2\n",
      "99.0         3\n",
      "100.0        1\n",
      "101.0        1\n",
      "102.0        2\n",
      "104.0        1\n",
      "105.0        1\n",
      "110.0        1\n",
      "111.0        1\n",
      "112.0        1\n",
      "116.0        1\n",
      "118.0        1\n",
      "150.0        1\n",
      "Length: 109, dtype: int64 \n",
      "\n",
      "23 acc_now_delinq\n",
      "0.0    273508\n",
      "1.0       883\n",
      "dtype: int64 \n",
      "\n"
     ]
    }
   ],
   "source": [
    "i = 0\n",
    "for x in df.columns:\n",
    "    i = i+1\n",
    "    if len(df.groupby(x).size())<1000:\n",
    "        print(i, df.groupby(x).size(), '\\n')"
   ]
  },
  {
   "cell_type": "code",
   "execution_count": 168,
   "metadata": {},
   "outputs": [
    {
     "data": {
      "text/plain": [
       "addr_state\n",
       "AK      717\n",
       "AL     3470\n",
       "AR     1918\n",
       "AZ     6591\n",
       "CA    46195\n",
       "CO     6003\n",
       "CT     3977\n",
       "DC      866\n",
       "DE      731\n",
       "FL    19097\n",
       "GA     8680\n",
       "HI     1627\n",
       "IA        6\n",
       "ID        6\n",
       "IL     9933\n",
       "IN     3128\n",
       "KS     2213\n",
       "KY     2426\n",
       "LA     3236\n",
       "MA     6621\n",
       "MD     6567\n",
       "ME       14\n",
       "MI     6542\n",
       "MN     4829\n",
       "MO     4231\n",
       "MS      532\n",
       "MT      802\n",
       "NC     7572\n",
       "ND       12\n",
       "NE       55\n",
       "NH     1234\n",
       "NJ    10416\n",
       "NM     1507\n",
       "NV     4163\n",
       "NY    23446\n",
       "OH     8383\n",
       "OK     2372\n",
       "OR     3579\n",
       "PA     9197\n",
       "RI     1186\n",
       "SC     3043\n",
       "SD      594\n",
       "TN     2782\n",
       "TX    21012\n",
       "UT     2265\n",
       "VA     8655\n",
       "VT      455\n",
       "WA     6321\n",
       "WI     3307\n",
       "WV     1240\n",
       "WY      637\n",
       "dtype: int64"
      ]
     },
     "metadata": {},
     "output_type": "display_data"
    },
    {
     "data": {
      "text/plain": [
       "annual_inc\n",
       "3000.00        1\n",
       "4000.00        1\n",
       "4080.00        1\n",
       "4200.00        2\n",
       "4524.00        1\n",
       "4800.00        6\n",
       "4888.00        1\n",
       "5000.00        2\n",
       "5500.00        1\n",
       "6000.00        7\n",
       "6610.00        1\n",
       "6635.00        1\n",
       "6695.00        1\n",
       "7000.00        4\n",
       "7200.00        6\n",
       "7452.00        1\n",
       "7459.64        1\n",
       "7500.00        2\n",
       "7600.00        1\n",
       "7680.00        1\n",
       "7740.00        1\n",
       "7800.00        2\n",
       "7904.04        1\n",
       "8000.00       15\n",
       "8004.00        1\n",
       "8088.00        4\n",
       "8208.00        1\n",
       "8280.00        1\n",
       "8376.00        1\n",
       "8391.48        1\n",
       "              ..\n",
       "985000.00      1\n",
       "995000.00      1\n",
       "1000000.00     5\n",
       "1080000.00     1\n",
       "1100000.00     3\n",
       "1176000.00     1\n",
       "1200000.00     7\n",
       "1233000.00     1\n",
       "1250000.00     2\n",
       "1300000.00     2\n",
       "1350000.00     1\n",
       "1362000.00     1\n",
       "1440000.00     1\n",
       "1500000.00     1\n",
       "1510000.00     1\n",
       "1650000.00     1\n",
       "1782000.00     1\n",
       "1900000.00     2\n",
       "1950000.00     1\n",
       "2000000.00     2\n",
       "2039784.00     1\n",
       "2146496.00     1\n",
       "3900000.00     1\n",
       "4900000.00     1\n",
       "5000000.00     1\n",
       "6000000.00     2\n",
       "6100000.00     1\n",
       "7141778.00     1\n",
       "8706582.00     1\n",
       "8900060.00     1\n",
       "Length: 20740, dtype: int64"
      ]
     },
     "metadata": {},
     "output_type": "display_data"
    },
    {
     "data": {
      "text/plain": [
       "delinq_2yrs\n",
       "0.0     228524\n",
       "1.0      31309\n",
       "2.0       8874\n",
       "3.0       3017\n",
       "4.0       1239\n",
       "5.0        637\n",
       "6.0        326\n",
       "7.0        176\n",
       "8.0        103\n",
       "9.0         63\n",
       "10.0        39\n",
       "11.0        23\n",
       "12.0        26\n",
       "13.0         8\n",
       "14.0         9\n",
       "15.0         5\n",
       "16.0         2\n",
       "17.0         2\n",
       "18.0         4\n",
       "19.0         1\n",
       "20.0         1\n",
       "21.0         1\n",
       "22.0         1\n",
       "29.0         1\n",
       "dtype: int64"
      ]
     },
     "metadata": {},
     "output_type": "display_data"
    },
    {
     "data": {
      "text/plain": [
       "dti\n",
       "0.00     296\n",
       "0.01       8\n",
       "0.02       9\n",
       "0.03       4\n",
       "0.04       5\n",
       "0.05       5\n",
       "0.06       6\n",
       "0.07       6\n",
       "0.08       8\n",
       "0.09       5\n",
       "0.11       9\n",
       "0.12       8\n",
       "0.13      13\n",
       "0.14       7\n",
       "0.15      10\n",
       "0.16      12\n",
       "0.17       8\n",
       "0.18      14\n",
       "0.19       4\n",
       "0.20      20\n",
       "0.21      10\n",
       "0.22      16\n",
       "0.23       9\n",
       "0.24      14\n",
       "0.25      25\n",
       "0.26      24\n",
       "0.27      14\n",
       "0.28      23\n",
       "0.29      13\n",
       "0.30      17\n",
       "        ... \n",
       "39.73      3\n",
       "39.74      4\n",
       "39.75      4\n",
       "39.76      3\n",
       "39.77      3\n",
       "39.78      8\n",
       "39.79      3\n",
       "39.80      3\n",
       "39.81      1\n",
       "39.82      4\n",
       "39.83      2\n",
       "39.84      2\n",
       "39.85      3\n",
       "39.86      4\n",
       "39.87      2\n",
       "39.88      5\n",
       "39.89      5\n",
       "39.90      4\n",
       "39.91      1\n",
       "39.92      3\n",
       "39.93      2\n",
       "39.94      1\n",
       "39.95      3\n",
       "39.96      1\n",
       "39.97      2\n",
       "39.98      2\n",
       "39.99      5\n",
       "57.14      1\n",
       "59.18      1\n",
       "59.26      1\n",
       "Length: 3996, dtype: int64"
      ]
     },
     "metadata": {},
     "output_type": "display_data"
    },
    {
     "data": {
      "text/plain": [
       "earliest_cr_line\n",
       "Apr-1955       1\n",
       "Apr-1962       1\n",
       "Apr-1963       1\n",
       "Apr-1964       6\n",
       "Apr-1965       3\n",
       "Apr-1966       7\n",
       "Apr-1967      12\n",
       "Apr-1968      11\n",
       "Apr-1969      12\n",
       "Apr-1970      22\n",
       "Apr-1971      14\n",
       "Apr-1972      16\n",
       "Apr-1973      32\n",
       "Apr-1974      28\n",
       "Apr-1975      35\n",
       "Apr-1976      47\n",
       "Apr-1977      61\n",
       "Apr-1978      82\n",
       "Apr-1979      96\n",
       "Apr-1980      94\n",
       "Apr-1981     107\n",
       "Apr-1982     119\n",
       "Apr-1983     157\n",
       "Apr-1984     177\n",
       "Apr-1985     237\n",
       "Apr-1986     260\n",
       "Apr-1987     301\n",
       "Apr-1988     370\n",
       "Apr-1989     430\n",
       "Apr-1990     467\n",
       "            ... \n",
       "Sep-1983     190\n",
       "Sep-1984     241\n",
       "Sep-1985     223\n",
       "Sep-1986     294\n",
       "Sep-1987     302\n",
       "Sep-1988     403\n",
       "Sep-1989     434\n",
       "Sep-1990     546\n",
       "Sep-1991     465\n",
       "Sep-1992     507\n",
       "Sep-1993     782\n",
       "Sep-1994     948\n",
       "Sep-1995    1202\n",
       "Sep-1996    1152\n",
       "Sep-1997    1249\n",
       "Sep-1998    1541\n",
       "Sep-1999    1786\n",
       "Sep-2000    1909\n",
       "Sep-2001    1857\n",
       "Sep-2002    1778\n",
       "Sep-2003    1630\n",
       "Sep-2004    1385\n",
       "Sep-2005    1144\n",
       "Sep-2006    1076\n",
       "Sep-2007     740\n",
       "Sep-2008     391\n",
       "Sep-2009     212\n",
       "Sep-2010     173\n",
       "Sep-2011      67\n",
       "Sep-2012       1\n",
       "Length: 649, dtype: int64"
      ]
     },
     "metadata": {},
     "output_type": "display_data"
    },
    {
     "data": {
      "text/plain": [
       "emp_length\n",
       "1 year       18295\n",
       "10+ years    83448\n",
       "2 years      25479\n",
       "3 years      22170\n",
       "4 years      17455\n",
       "5 years      19346\n",
       "6 years      15855\n",
       "7 years      15181\n",
       "8 years      12921\n",
       "9 years      10436\n",
       "< 1 year     22738\n",
       "n/a          11067\n",
       "dtype: int64"
      ]
     },
     "metadata": {},
     "output_type": "display_data"
    },
    {
     "data": {
      "text/plain": [
       "grade\n",
       "A    43334\n",
       "B    79917\n",
       "C    71584\n",
       "D    45682\n",
       "E    22515\n",
       "F     9016\n",
       "G     2343\n",
       "dtype: int64"
      ]
     },
     "metadata": {},
     "output_type": "display_data"
    },
    {
     "data": {
      "text/plain": [
       "home_ownership\n",
       "MORTGAGE     134317\n",
       "OWN           24204\n",
       "RENT         115685\n",
       "UNDEFINED       185\n",
       "dtype: int64"
      ]
     },
     "metadata": {},
     "output_type": "display_data"
    },
    {
     "data": {
      "text/plain": [
       "initial_list_status\n",
       "f    193471\n",
       "w     80920\n",
       "dtype: int64"
      ]
     },
     "metadata": {},
     "output_type": "display_data"
    },
    {
     "data": {
      "text/plain": [
       "inq_last_6mths\n",
       "0.0    134409\n",
       "1.0     79037\n",
       "2.0     37511\n",
       "3.0     17211\n",
       "4.0      4079\n",
       "5.0      1523\n",
       "6.0       557\n",
       "7.0        46\n",
       "8.0        18\n",
       "dtype: int64"
      ]
     },
     "metadata": {},
     "output_type": "display_data"
    },
    {
     "data": {
      "text/plain": [
       "installment\n",
       "15.69       1\n",
       "16.08       1\n",
       "16.25       1\n",
       "16.31       1\n",
       "16.47       1\n",
       "19.87       1\n",
       "20.22       1\n",
       "21.25       1\n",
       "21.62       1\n",
       "21.81       1\n",
       "22.51       1\n",
       "22.79       1\n",
       "22.94       1\n",
       "23.01       1\n",
       "23.17       1\n",
       "23.26       1\n",
       "23.35       1\n",
       "23.51       1\n",
       "23.91       1\n",
       "24.16       1\n",
       "24.27       1\n",
       "24.32       1\n",
       "24.73       1\n",
       "24.84       1\n",
       "24.96       1\n",
       "25.02       1\n",
       "25.16       1\n",
       "25.28       1\n",
       "26.51       1\n",
       "26.84       1\n",
       "           ..\n",
       "1350.84     1\n",
       "1353.02     4\n",
       "1353.93    10\n",
       "1354.66     6\n",
       "1356.67     5\n",
       "1358.87     1\n",
       "1359.96     3\n",
       "1362.15     3\n",
       "1362.70     7\n",
       "1363.98     1\n",
       "1366.12     1\n",
       "1366.36     2\n",
       "1367.65     5\n",
       "1368.75     1\n",
       "1370.83     1\n",
       "1372.97     2\n",
       "1374.63     6\n",
       "1379.23     1\n",
       "1380.63     1\n",
       "1382.36     1\n",
       "1388.45     2\n",
       "1391.41     2\n",
       "1396.79     1\n",
       "1402.17     2\n",
       "1404.95     1\n",
       "1406.45     5\n",
       "1407.01     3\n",
       "1408.13     3\n",
       "1409.99     1\n",
       "1424.57     1\n",
       "Length: 47560, dtype: int64"
      ]
     },
     "metadata": {},
     "output_type": "display_data"
    },
    {
     "data": {
      "text/plain": [
       "int_rate\n",
       "5.32      186\n",
       "5.42      573\n",
       "5.79      410\n",
       "5.93      128\n",
       "5.99      347\n",
       "6.00       51\n",
       "6.03     4936\n",
       "6.17      252\n",
       "6.24      210\n",
       "6.39      265\n",
       "6.49     1044\n",
       "6.54      305\n",
       "6.62     3581\n",
       "6.68      208\n",
       "6.76      168\n",
       "6.89      208\n",
       "6.91      303\n",
       "6.92      584\n",
       "6.97      188\n",
       "6.99      613\n",
       "7.05       23\n",
       "7.12      703\n",
       "7.14      341\n",
       "7.26      285\n",
       "7.29      387\n",
       "7.37       31\n",
       "7.40       72\n",
       "7.42        7\n",
       "7.43       26\n",
       "7.49     1095\n",
       "         ... \n",
       "23.70     305\n",
       "23.76     258\n",
       "23.83     225\n",
       "23.91      12\n",
       "23.99     405\n",
       "24.08     865\n",
       "24.11       8\n",
       "24.20      26\n",
       "24.33      19\n",
       "24.40       1\n",
       "24.50    1099\n",
       "24.52       4\n",
       "24.70     142\n",
       "24.76       5\n",
       "24.83      78\n",
       "24.89     216\n",
       "24.99     807\n",
       "25.28     111\n",
       "25.57     556\n",
       "25.78      75\n",
       "25.80     481\n",
       "25.83     370\n",
       "25.89     281\n",
       "25.99     186\n",
       "26.06     159\n",
       "26.77      65\n",
       "27.31      55\n",
       "27.88      27\n",
       "28.49      23\n",
       "28.99      26\n",
       "Length: 513, dtype: int64"
      ]
     },
     "metadata": {},
     "output_type": "display_data"
    },
    {
     "data": {
      "text/plain": [
       "loan_status\n",
       "charged_off     45248\n",
       "fully_paid     207723\n",
       "late            21420\n",
       "dtype: int64"
      ]
     },
     "metadata": {},
     "output_type": "display_data"
    },
    {
     "data": {
      "text/plain": [
       "mths_since_last_delinq\n",
       "0.0    151353\n",
       "1.0    123038\n",
       "dtype: int64"
      ]
     },
     "metadata": {},
     "output_type": "display_data"
    },
    {
     "data": {
      "text/plain": [
       "mths_since_last_major_derog\n",
       "0.0    220511\n",
       "1.0     53880\n",
       "dtype: int64"
      ]
     },
     "metadata": {},
     "output_type": "display_data"
    },
    {
     "data": {
      "text/plain": [
       "mths_since_last_record\n",
       "0.0    239837\n",
       "1.0     34554\n",
       "dtype: int64"
      ]
     },
     "metadata": {},
     "output_type": "display_data"
    },
    {
     "data": {
      "text/plain": [
       "open_acc\n",
       "0.0         6\n",
       "1.0        49\n",
       "2.0      1282\n",
       "3.0      3747\n",
       "4.0      8041\n",
       "5.0     13413\n",
       "6.0     19079\n",
       "7.0     22616\n",
       "8.0     25050\n",
       "9.0     26280\n",
       "10.0    24835\n",
       "11.0    22912\n",
       "12.0    20218\n",
       "13.0    16922\n",
       "14.0    14208\n",
       "15.0    11461\n",
       "16.0     9507\n",
       "17.0     7509\n",
       "18.0     6094\n",
       "19.0     4882\n",
       "20.0     3731\n",
       "21.0     2930\n",
       "22.0     2275\n",
       "23.0     1729\n",
       "24.0     1393\n",
       "25.0     1011\n",
       "26.0      720\n",
       "27.0      580\n",
       "28.0      396\n",
       "29.0      308\n",
       "30.0      247\n",
       "31.0      178\n",
       "32.0      173\n",
       "33.0      130\n",
       "34.0      103\n",
       "35.0       70\n",
       "36.0       63\n",
       "37.0       51\n",
       "38.0       36\n",
       "39.0       28\n",
       "40.0       24\n",
       "41.0       20\n",
       "42.0       17\n",
       "43.0       13\n",
       "44.0        8\n",
       "45.0        8\n",
       "46.0        7\n",
       "47.0        7\n",
       "48.0        3\n",
       "49.0        4\n",
       "50.0        3\n",
       "51.0        1\n",
       "52.0        3\n",
       "53.0        2\n",
       "54.0        2\n",
       "55.0        1\n",
       "56.0        1\n",
       "58.0        2\n",
       "76.0        2\n",
       "dtype: int64"
      ]
     },
     "metadata": {},
     "output_type": "display_data"
    },
    {
     "data": {
      "text/plain": [
       "pub_rec\n",
       "0.0     239834\n",
       "1.0      30334\n",
       "2.0       2962\n",
       "3.0        802\n",
       "4.0        249\n",
       "5.0        109\n",
       "6.0         53\n",
       "7.0         20\n",
       "8.0          9\n",
       "9.0          7\n",
       "10.0         5\n",
       "11.0         3\n",
       "12.0         2\n",
       "15.0         1\n",
       "20.0         1\n",
       "dtype: int64"
      ]
     },
     "metadata": {},
     "output_type": "display_data"
    },
    {
     "data": {
      "text/plain": [
       "purpose\n",
       "car                     3781\n",
       "credit_card            53936\n",
       "debt_consolidation    162080\n",
       "educational              325\n",
       "home_improvement       16142\n",
       "house                   1772\n",
       "major_purchase          6662\n",
       "medical                 3067\n",
       "moving                  2195\n",
       "other                  15383\n",
       "renewable_energy         284\n",
       "small_business          5084\n",
       "vacation                1714\n",
       "wedding                 1966\n",
       "dtype: int64"
      ]
     },
     "metadata": {},
     "output_type": "display_data"
    },
    {
     "data": {
      "text/plain": [
       "term\n",
       " 36 months    209857\n",
       " 60 months     64534\n",
       "dtype: int64"
      ]
     },
     "metadata": {},
     "output_type": "display_data"
    },
    {
     "data": {
      "text/plain": [
       "total_acc\n",
       "2.0         16\n",
       "3.0        311\n",
       "4.0       1021\n",
       "5.0       1568\n",
       "6.0       2272\n",
       "7.0       3045\n",
       "8.0       3971\n",
       "9.0       4675\n",
       "10.0      5585\n",
       "11.0      6242\n",
       "12.0      6974\n",
       "13.0      7846\n",
       "14.0      8173\n",
       "15.0      8735\n",
       "16.0      9078\n",
       "17.0      9581\n",
       "18.0      9594\n",
       "19.0      9709\n",
       "20.0     10020\n",
       "21.0      9979\n",
       "22.0      9909\n",
       "23.0      9661\n",
       "24.0      9445\n",
       "25.0      9083\n",
       "26.0      8717\n",
       "27.0      8395\n",
       "28.0      8032\n",
       "29.0      7657\n",
       "30.0      7189\n",
       "31.0      6680\n",
       "         ...  \n",
       "81.0        16\n",
       "82.0         8\n",
       "83.0         9\n",
       "84.0        10\n",
       "85.0         8\n",
       "86.0         2\n",
       "87.0         9\n",
       "88.0         8\n",
       "89.0         4\n",
       "90.0         6\n",
       "91.0         6\n",
       "92.0         4\n",
       "93.0         3\n",
       "94.0         2\n",
       "95.0         2\n",
       "96.0         1\n",
       "97.0         1\n",
       "98.0         2\n",
       "99.0         3\n",
       "100.0        1\n",
       "101.0        1\n",
       "102.0        2\n",
       "104.0        1\n",
       "105.0        1\n",
       "110.0        1\n",
       "111.0        1\n",
       "112.0        1\n",
       "116.0        1\n",
       "118.0        1\n",
       "150.0        1\n",
       "Length: 109, dtype: int64"
      ]
     },
     "metadata": {},
     "output_type": "display_data"
    },
    {
     "data": {
      "text/plain": [
       "total_rec_late_fee\n",
       "0.000000      265538\n",
       "0.010000           6\n",
       "0.060800           1\n",
       "0.073787           1\n",
       "0.081838           1\n",
       "0.101705           1\n",
       "0.135766           1\n",
       "0.180083           1\n",
       "0.184774           1\n",
       "0.200000           1\n",
       "0.260000           1\n",
       "0.265406           1\n",
       "0.302037           1\n",
       "0.350000           1\n",
       "0.440000           1\n",
       "0.510000           1\n",
       "0.870000           1\n",
       "1.000000           3\n",
       "1.310000           1\n",
       "1.360000           1\n",
       "1.690000           1\n",
       "2.000000           3\n",
       "3.160000           1\n",
       "3.230000           1\n",
       "4.000000           1\n",
       "4.410000           1\n",
       "5.000000           5\n",
       "6.000000           1\n",
       "6.290000           1\n",
       "10.000000         12\n",
       "               ...  \n",
       "139.560000         1\n",
       "141.720000         1\n",
       "142.750000         1\n",
       "144.420000         1\n",
       "144.900000         1\n",
       "145.200000         1\n",
       "145.530000         1\n",
       "146.040000         1\n",
       "146.413751         1\n",
       "147.650000         1\n",
       "155.760000         1\n",
       "155.840000         1\n",
       "157.500000         1\n",
       "159.660000         1\n",
       "165.650151         1\n",
       "166.140000         1\n",
       "166.429711         1\n",
       "169.050000         1\n",
       "178.800000         1\n",
       "189.180000         1\n",
       "191.840000         1\n",
       "194.370000         1\n",
       "196.150000         1\n",
       "199.160000         1\n",
       "213.300000         1\n",
       "242.550000         1\n",
       "268.550000         1\n",
       "286.747566         1\n",
       "294.680000         1\n",
       "358.680000         1\n",
       "Length: 5159, dtype: int64"
      ]
     },
     "metadata": {},
     "output_type": "display_data"
    },
    {
     "data": {
      "text/plain": [
       "acc_now_delinq\n",
       "0.0    273508\n",
       "1.0       883\n",
       "dtype: int64"
      ]
     },
     "metadata": {},
     "output_type": "display_data"
    },
    {
     "data": {
      "text/plain": [
       "tot_coll_amt\n",
       "0.0          249368\n",
       "3.0               1\n",
       "7.0               1\n",
       "8.0               1\n",
       "9.0               1\n",
       "12.0              1\n",
       "13.0              1\n",
       "15.0              1\n",
       "20.0              1\n",
       "21.0              1\n",
       "22.0              1\n",
       "25.0              8\n",
       "26.0              9\n",
       "27.0             11\n",
       "28.0             13\n",
       "29.0              7\n",
       "30.0             16\n",
       "31.0             10\n",
       "32.0             11\n",
       "33.0              5\n",
       "34.0              7\n",
       "35.0              4\n",
       "36.0              5\n",
       "37.0              6\n",
       "38.0              2\n",
       "39.0              4\n",
       "40.0             16\n",
       "41.0              5\n",
       "42.0              8\n",
       "43.0              6\n",
       "              ...  \n",
       "53300.0           1\n",
       "55009.0           2\n",
       "55513.0           1\n",
       "56234.0           1\n",
       "57147.0           1\n",
       "57186.0           1\n",
       "57195.0           1\n",
       "58082.0           1\n",
       "59924.0           1\n",
       "60277.0           1\n",
       "60531.0           1\n",
       "63787.0           1\n",
       "64250.0           1\n",
       "67048.0           1\n",
       "68652.0           1\n",
       "70093.0           1\n",
       "74401.0           1\n",
       "75081.0           1\n",
       "77951.0           1\n",
       "78392.0           1\n",
       "79205.0           1\n",
       "80936.0           1\n",
       "87657.0           1\n",
       "95806.0           1\n",
       "113384.0          1\n",
       "117800.0          1\n",
       "119428.0          1\n",
       "124825.0          1\n",
       "296368.0          1\n",
       "9152545.0         1\n",
       "Length: 4383, dtype: int64"
      ]
     },
     "metadata": {},
     "output_type": "display_data"
    },
    {
     "data": {
      "text/plain": [
       "tot_cur_bal\n",
       "0.0          53\n",
       "1.0           1\n",
       "2.0           2\n",
       "4.0           1\n",
       "5.0           1\n",
       "7.0           1\n",
       "10.0          2\n",
       "11.0          2\n",
       "15.0          2\n",
       "17.0          2\n",
       "18.0          1\n",
       "20.0          1\n",
       "33.0          1\n",
       "36.0          1\n",
       "38.0          1\n",
       "41.0          1\n",
       "43.0          1\n",
       "49.0          1\n",
       "50.0          1\n",
       "51.0          2\n",
       "54.0          1\n",
       "55.0          1\n",
       "57.0          1\n",
       "58.0          1\n",
       "66.0          1\n",
       "69.0          1\n",
       "72.0          1\n",
       "75.0          4\n",
       "77.0          1\n",
       "78.0          1\n",
       "             ..\n",
       "1856988.0     1\n",
       "1890286.0     1\n",
       "1907327.0     1\n",
       "1955400.0     1\n",
       "1967533.0     1\n",
       "1972493.0     1\n",
       "1979764.0     1\n",
       "2008009.0     1\n",
       "2054629.0     1\n",
       "2100799.0     1\n",
       "2113815.0     1\n",
       "2134998.0     1\n",
       "2154632.0     1\n",
       "2203780.0     1\n",
       "2238193.0     1\n",
       "2288155.0     1\n",
       "2302431.0     1\n",
       "2442195.0     1\n",
       "2471713.0     1\n",
       "2547166.0     1\n",
       "2629423.0     1\n",
       "2940054.0     1\n",
       "3128834.0     1\n",
       "3437283.0     1\n",
       "3471522.0     1\n",
       "3610743.0     1\n",
       "3652389.0     1\n",
       "3796811.0     1\n",
       "4772549.0     1\n",
       "8000078.0     1\n",
       "Length: 144945, dtype: int64"
      ]
     },
     "metadata": {},
     "output_type": "display_data"
    }
   ],
   "source": [
    "for x in df.columns:\n",
    "    display(df.groupby(x).size())"
   ]
  },
  {
   "cell_type": "markdown",
   "metadata": {},
   "source": [
    "The varialbes whose name is contained in the list below are to be one-hot encoded"
   ]
  },
  {
   "cell_type": "code",
   "execution_count": 169,
   "metadata": {
    "collapsed": true
   },
   "outputs": [],
   "source": [
    "get_dummy_list = ['addr_state', 'emp_length', 'grade', 'home_ownership', 'initial_list_status', 'mths_since_last_delinq',\n",
    "                 'mths_since_last_major_derog', 'mths_since_last_record', 'purpose', 'term', 'acc_now_delinq']\n",
    "x_inputs = []\n",
    "float_columns = ['annual_inc', 'delinq_2yrs', 'dti', 'inq_last_6mths', 'installment', 'int_rate', \n",
    "                 'open_acc', 'pub_rec', 'total_acc', 'total_rec_late_fee', 'tot_coll_amt', 'tot_cur_bal']\n",
    "#for x in df.columns:\n",
    "#    if x not in get_dummy_list:\n",
    "#        float_columns.append(x)\n"
   ]
  },
  {
   "cell_type": "markdown",
   "metadata": {},
   "source": [
    "### Graphical Exploratory data analysis & data transformation"
   ]
  },
  {
   "cell_type": "code",
   "execution_count": 170,
   "metadata": {
    "scrolled": true
   },
   "outputs": [
    {
     "data": {
      "image/png": "[encoded data removed]",
      "text/plain": [
       "<matplotlib.figure.Figure at 0xe47b7ac6a0>"
      ]
     },
     "metadata": {},
     "output_type": "display_data"
    }
   ],
   "source": [
    "fig, axes = plt.subplots(nrows = 4, ncols = 3, figsize=(20, 20))\n",
    "for ax, column in zip(axes.flat, float_columns):\n",
    "    ax.hist(df[column])\n",
    "    ax.set(title = float_columns)\n",
    "plt.show()"
   ]
  },
  {
   "cell_type": "markdown",
   "metadata": {},
   "source": [
    "Based on the graphs above, it is clear that variables' data are not normally distributed. Thus i applied ln(x+1) to each of the values (I added 1 to  x as many of the data has value 0)"
   ]
  },
  {
   "cell_type": "code",
   "execution_count": 171,
   "metadata": {
    "collapsed": true
   },
   "outputs": [],
   "source": [
    "import math"
   ]
  },
  {
   "cell_type": "code",
   "execution_count": 172,
   "metadata": {},
   "outputs": [
    {
     "name": "stdout",
     "output_type": "stream",
     "text": [
      "<class 'pandas.core.frame.DataFrame'>\n",
      "Int64Index: 274391 entries, 0 to 887371\n",
      "Data columns (total 12 columns):\n",
      "annual_inc            274391 non-null float64\n",
      "delinq_2yrs           274391 non-null float64\n",
      "dti                   274391 non-null float64\n",
      "inq_last_6mths        274391 non-null float64\n",
      "installment           274391 non-null float64\n",
      "int_rate              274391 non-null float64\n",
      "open_acc              274391 non-null float64\n",
      "pub_rec               274391 non-null float64\n",
      "total_acc             274391 non-null float64\n",
      "total_rec_late_fee    274391 non-null float64\n",
      "tot_coll_amt          274391 non-null float64\n",
      "tot_cur_bal           274391 non-null float64\n",
      "dtypes: float64(12)\n",
      "memory usage: 37.2 MB\n"
     ]
    },
    {
     "data": {
      "text/plain": [
       "None"
      ]
     },
     "metadata": {},
     "output_type": "display_data"
    }
   ],
   "source": [
    "display(df[float_columns].info())"
   ]
  },
  {
   "cell_type": "code",
   "execution_count": 173,
   "metadata": {
    "collapsed": true
   },
   "outputs": [],
   "source": [
    "loan_stauts = df['loan_status']\n",
    "del df['loan_status']"
   ]
  },
  {
   "cell_type": "code",
   "execution_count": 174,
   "metadata": {
    "collapsed": true,
    "scrolled": true
   },
   "outputs": [],
   "source": [
    "for column in float_columns:\n",
    "    df[column] = df[column].apply(lambda x : math.log(x+1))"
   ]
  },
  {
   "cell_type": "code",
   "execution_count": 175,
   "metadata": {},
   "outputs": [
    {
     "data": {
      "text/html": [
       "<div>\n",
       "<style>\n",
       "    .dataframe thead tr:only-child th {\n",
       "        text-align: right;\n",
       "    }\n",
       "\n",
       "    .dataframe thead th {\n",
       "        text-align: left;\n",
       "    }\n",
       "\n",
       "    .dataframe tbody tr th {\n",
       "        vertical-align: top;\n",
       "    }\n",
       "</style>\n",
       "<table border=\"1\" class=\"dataframe\">\n",
       "  <thead>\n",
       "    <tr style=\"text-align: right;\">\n",
       "      <th></th>\n",
       "      <th>addr_state</th>\n",
       "      <th>annual_inc</th>\n",
       "      <th>delinq_2yrs</th>\n",
       "      <th>dti</th>\n",
       "      <th>earliest_cr_line</th>\n",
       "      <th>emp_length</th>\n",
       "      <th>grade</th>\n",
       "      <th>home_ownership</th>\n",
       "      <th>initial_list_status</th>\n",
       "      <th>inq_last_6mths</th>\n",
       "      <th>installment</th>\n",
       "      <th>int_rate</th>\n",
       "      <th>mths_since_last_delinq</th>\n",
       "      <th>mths_since_last_major_derog</th>\n",
       "      <th>mths_since_last_record</th>\n",
       "      <th>open_acc</th>\n",
       "      <th>pub_rec</th>\n",
       "      <th>purpose</th>\n",
       "      <th>term</th>\n",
       "      <th>total_acc</th>\n",
       "      <th>total_rec_late_fee</th>\n",
       "      <th>acc_now_delinq</th>\n",
       "      <th>tot_coll_amt</th>\n",
       "      <th>tot_cur_bal</th>\n",
       "    </tr>\n",
       "  </thead>\n",
       "  <tbody>\n",
       "    <tr>\n",
       "      <th>0</th>\n",
       "      <td>AZ</td>\n",
       "      <td>10.085851</td>\n",
       "      <td>0.0</td>\n",
       "      <td>3.355153</td>\n",
       "      <td>Jan-1985</td>\n",
       "      <td>10+ years</td>\n",
       "      <td>B</td>\n",
       "      <td>RENT</td>\n",
       "      <td>f</td>\n",
       "      <td>0.693147</td>\n",
       "      <td>5.099073</td>\n",
       "      <td>2.455306</td>\n",
       "      <td>0.0</td>\n",
       "      <td>0.0</td>\n",
       "      <td>0.0</td>\n",
       "      <td>1.386294</td>\n",
       "      <td>0.0</td>\n",
       "      <td>credit_card</td>\n",
       "      <td>36 months</td>\n",
       "      <td>2.302585</td>\n",
       "      <td>0.000000</td>\n",
       "      <td>0.0</td>\n",
       "      <td>0.0</td>\n",
       "      <td>11.826869</td>\n",
       "    </tr>\n",
       "    <tr>\n",
       "      <th>1</th>\n",
       "      <td>GA</td>\n",
       "      <td>10.308986</td>\n",
       "      <td>0.0</td>\n",
       "      <td>0.693147</td>\n",
       "      <td>Apr-1999</td>\n",
       "      <td>&lt; 1 year</td>\n",
       "      <td>C</td>\n",
       "      <td>RENT</td>\n",
       "      <td>f</td>\n",
       "      <td>1.791759</td>\n",
       "      <td>4.108083</td>\n",
       "      <td>2.789323</td>\n",
       "      <td>0.0</td>\n",
       "      <td>0.0</td>\n",
       "      <td>0.0</td>\n",
       "      <td>1.386294</td>\n",
       "      <td>0.0</td>\n",
       "      <td>car</td>\n",
       "      <td>60 months</td>\n",
       "      <td>1.609438</td>\n",
       "      <td>0.000000</td>\n",
       "      <td>0.0</td>\n",
       "      <td>0.0</td>\n",
       "      <td>11.826869</td>\n",
       "    </tr>\n",
       "    <tr>\n",
       "      <th>2</th>\n",
       "      <td>IL</td>\n",
       "      <td>9.413526</td>\n",
       "      <td>0.0</td>\n",
       "      <td>2.274186</td>\n",
       "      <td>Nov-2001</td>\n",
       "      <td>10+ years</td>\n",
       "      <td>C</td>\n",
       "      <td>RENT</td>\n",
       "      <td>f</td>\n",
       "      <td>1.098612</td>\n",
       "      <td>4.446526</td>\n",
       "      <td>2.830858</td>\n",
       "      <td>0.0</td>\n",
       "      <td>0.0</td>\n",
       "      <td>0.0</td>\n",
       "      <td>1.098612</td>\n",
       "      <td>0.0</td>\n",
       "      <td>small_business</td>\n",
       "      <td>36 months</td>\n",
       "      <td>2.397895</td>\n",
       "      <td>0.000000</td>\n",
       "      <td>0.0</td>\n",
       "      <td>0.0</td>\n",
       "      <td>11.826869</td>\n",
       "    </tr>\n",
       "    <tr>\n",
       "      <th>3</th>\n",
       "      <td>CA</td>\n",
       "      <td>10.803669</td>\n",
       "      <td>0.0</td>\n",
       "      <td>3.044522</td>\n",
       "      <td>Feb-1996</td>\n",
       "      <td>10+ years</td>\n",
       "      <td>C</td>\n",
       "      <td>RENT</td>\n",
       "      <td>f</td>\n",
       "      <td>0.693147</td>\n",
       "      <td>5.829857</td>\n",
       "      <td>2.673459</td>\n",
       "      <td>1.0</td>\n",
       "      <td>0.0</td>\n",
       "      <td>0.0</td>\n",
       "      <td>2.397895</td>\n",
       "      <td>0.0</td>\n",
       "      <td>other</td>\n",
       "      <td>36 months</td>\n",
       "      <td>3.637586</td>\n",
       "      <td>2.888704</td>\n",
       "      <td>0.0</td>\n",
       "      <td>0.0</td>\n",
       "      <td>11.826869</td>\n",
       "    </tr>\n",
       "    <tr>\n",
       "      <th>5</th>\n",
       "      <td>AZ</td>\n",
       "      <td>10.491302</td>\n",
       "      <td>0.0</td>\n",
       "      <td>2.501436</td>\n",
       "      <td>Nov-2004</td>\n",
       "      <td>3 years</td>\n",
       "      <td>A</td>\n",
       "      <td>RENT</td>\n",
       "      <td>f</td>\n",
       "      <td>1.386294</td>\n",
       "      <td>5.059171</td>\n",
       "      <td>2.186051</td>\n",
       "      <td>0.0</td>\n",
       "      <td>0.0</td>\n",
       "      <td>0.0</td>\n",
       "      <td>2.302585</td>\n",
       "      <td>0.0</td>\n",
       "      <td>wedding</td>\n",
       "      <td>36 months</td>\n",
       "      <td>2.564949</td>\n",
       "      <td>0.000000</td>\n",
       "      <td>0.0</td>\n",
       "      <td>0.0</td>\n",
       "      <td>11.826869</td>\n",
       "    </tr>\n",
       "  </tbody>\n",
       "</table>\n",
       "</div>"
      ],
      "text/plain": [
       "  addr_state  annual_inc  delinq_2yrs       dti earliest_cr_line emp_length  \\\n",
       "0         AZ   10.085851          0.0  3.355153         Jan-1985  10+ years   \n",
       "1         GA   10.308986          0.0  0.693147         Apr-1999   < 1 year   \n",
       "2         IL    9.413526          0.0  2.274186         Nov-2001  10+ years   \n",
       "3         CA   10.803669          0.0  3.044522         Feb-1996  10+ years   \n",
       "5         AZ   10.491302          0.0  2.501436         Nov-2004    3 years   \n",
       "\n",
       "  grade home_ownership initial_list_status  inq_last_6mths  installment  \\\n",
       "0     B           RENT                   f        0.693147     5.099073   \n",
       "1     C           RENT                   f        1.791759     4.108083   \n",
       "2     C           RENT                   f        1.098612     4.446526   \n",
       "3     C           RENT                   f        0.693147     5.829857   \n",
       "5     A           RENT                   f        1.386294     5.059171   \n",
       "\n",
       "   int_rate  mths_since_last_delinq  mths_since_last_major_derog  \\\n",
       "0  2.455306                     0.0                          0.0   \n",
       "1  2.789323                     0.0                          0.0   \n",
       "2  2.830858                     0.0                          0.0   \n",
       "3  2.673459                     1.0                          0.0   \n",
       "5  2.186051                     0.0                          0.0   \n",
       "\n",
       "   mths_since_last_record  open_acc  pub_rec         purpose        term  \\\n",
       "0                     0.0  1.386294      0.0     credit_card   36 months   \n",
       "1                     0.0  1.386294      0.0             car   60 months   \n",
       "2                     0.0  1.098612      0.0  small_business   36 months   \n",
       "3                     0.0  2.397895      0.0           other   36 months   \n",
       "5                     0.0  2.302585      0.0         wedding   36 months   \n",
       "\n",
       "   total_acc  total_rec_late_fee  acc_now_delinq  tot_coll_amt  tot_cur_bal  \n",
       "0   2.302585            0.000000             0.0           0.0    11.826869  \n",
       "1   1.609438            0.000000             0.0           0.0    11.826869  \n",
       "2   2.397895            0.000000             0.0           0.0    11.826869  \n",
       "3   3.637586            2.888704             0.0           0.0    11.826869  \n",
       "5   2.564949            0.000000             0.0           0.0    11.826869  "
      ]
     },
     "metadata": {},
     "output_type": "display_data"
    }
   ],
   "source": [
    "pd.set_option('display.max_columns', None)\n",
    "display(df.head())"
   ]
  },
  {
   "cell_type": "code",
   "execution_count": 176,
   "metadata": {},
   "outputs": [
    {
     "data": {
      "text/plain": [
       "0         0.0\n",
       "1         0.0\n",
       "2         0.0\n",
       "3         0.0\n",
       "5         0.0\n",
       "7         0.0\n",
       "8         0.0\n",
       "9         0.0\n",
       "10        0.0\n",
       "11        0.0\n",
       "12        0.0\n",
       "13        0.0\n",
       "14        0.0\n",
       "15        0.0\n",
       "16        0.0\n",
       "17        0.0\n",
       "18        0.0\n",
       "19        0.0\n",
       "20        0.0\n",
       "21        0.0\n",
       "22        0.0\n",
       "23        0.0\n",
       "24        0.0\n",
       "25        0.0\n",
       "26        0.0\n",
       "27        0.0\n",
       "28        0.0\n",
       "29        0.0\n",
       "30        0.0\n",
       "31        0.0\n",
       "         ... \n",
       "887198    0.0\n",
       "887202    0.0\n",
       "887215    0.0\n",
       "887231    0.0\n",
       "887248    0.0\n",
       "887249    0.0\n",
       "887254    0.0\n",
       "887258    0.0\n",
       "887263    0.0\n",
       "887264    0.0\n",
       "887268    0.0\n",
       "887275    0.0\n",
       "887276    0.0\n",
       "887279    0.0\n",
       "887280    0.0\n",
       "887290    0.0\n",
       "887303    0.0\n",
       "887308    0.0\n",
       "887322    0.0\n",
       "887330    0.0\n",
       "887332    0.0\n",
       "887337    0.0\n",
       "887345    0.0\n",
       "887346    0.0\n",
       "887347    0.0\n",
       "887351    0.0\n",
       "887364    0.0\n",
       "887366    0.0\n",
       "887369    0.0\n",
       "887371    0.0\n",
       "Name: acc_now_delinq, Length: 274391, dtype: float64"
      ]
     },
     "execution_count": 176,
     "metadata": {},
     "output_type": "execute_result"
    }
   ],
   "source": [
    "make_categorical('acc_now_delinq')"
   ]
  },
  {
   "cell_type": "markdown",
   "metadata": {},
   "source": [
    "I one-oht encoded all the varilbes of the get_dummy_list using pandas' get_dummies command. Then i merged them with the original datafram "
   ]
  },
  {
   "cell_type": "code",
   "execution_count": 177,
   "metadata": {
    "collapsed": true
   },
   "outputs": [],
   "source": [
    "get_dummy_list = ['addr_state', 'emp_length', 'grade', 'home_ownership','initial_list_status', 'mths_since_last_delinq', \n",
    "                 'mths_since_last_major_derog', 'mths_since_last_record', 'purpose', 'term' ]\n",
    "for x in get_dummy_list:\n",
    "    x1 = pd.get_dummies(df[x])\n",
    "    df = pd.concat([df, x1], axis=1)\n",
    "    "
   ]
  },
  {
   "cell_type": "code",
   "execution_count": 178,
   "metadata": {},
   "outputs": [
    {
     "name": "stdout",
     "output_type": "stream",
     "text": [
      "   annual_inc  delinq_2yrs       dti earliest_cr_line  inq_last_6mths  \\\n",
      "0   10.085851          0.0  3.355153         Jan-1985        0.693147   \n",
      "1   10.308986          0.0  0.693147         Apr-1999        1.791759   \n",
      "2    9.413526          0.0  2.274186         Nov-2001        1.098612   \n",
      "3   10.803669          0.0  3.044522         Feb-1996        0.693147   \n",
      "5   10.491302          0.0  2.501436         Nov-2004        1.386294   \n",
      "\n",
      "   installment  int_rate  open_acc  pub_rec  total_acc  total_rec_late_fee  \\\n",
      "0     5.099073  2.455306  1.386294      0.0   2.302585            0.000000   \n",
      "1     4.108083  2.789323  1.386294      0.0   1.609438            0.000000   \n",
      "2     4.446526  2.830858  1.098612      0.0   2.397895            0.000000   \n",
      "3     5.829857  2.673459  2.397895      0.0   3.637586            2.888704   \n",
      "5     5.059171  2.186051  2.302585      0.0   2.564949            0.000000   \n",
      "\n",
      "   acc_now_delinq  tot_coll_amt  tot_cur_bal  AK  AL  AR  AZ  CA  CO  CT  DC  \\\n",
      "0             0.0           0.0    11.826869   0   0   0   1   0   0   0   0   \n",
      "1             0.0           0.0    11.826869   0   0   0   0   0   0   0   0   \n",
      "2             0.0           0.0    11.826869   0   0   0   0   0   0   0   0   \n",
      "3             0.0           0.0    11.826869   0   0   0   0   1   0   0   0   \n",
      "5             0.0           0.0    11.826869   0   0   0   1   0   0   0   0   \n",
      "\n",
      "   DE  FL  GA  HI  IA  ID  IL  IN  KS  KY  LA  MA  MD  ME  MI  MN  MO  MS  MT  \\\n",
      "0   0   0   0   0   0   0   0   0   0   0   0   0   0   0   0   0   0   0   0   \n",
      "1   0   0   1   0   0   0   0   0   0   0   0   0   0   0   0   0   0   0   0   \n",
      "2   0   0   0   0   0   0   1   0   0   0   0   0   0   0   0   0   0   0   0   \n",
      "3   0   0   0   0   0   0   0   0   0   0   0   0   0   0   0   0   0   0   0   \n",
      "5   0   0   0   0   0   0   0   0   0   0   0   0   0   0   0   0   0   0   0   \n",
      "\n",
      "   NC  ND  NE  NH  NJ  NM  NV  NY  OH  OK  OR  PA  RI  SC  SD  TN  TX  UT  VA  \\\n",
      "0   0   0   0   0   0   0   0   0   0   0   0   0   0   0   0   0   0   0   0   \n",
      "1   0   0   0   0   0   0   0   0   0   0   0   0   0   0   0   0   0   0   0   \n",
      "2   0   0   0   0   0   0   0   0   0   0   0   0   0   0   0   0   0   0   0   \n",
      "3   0   0   0   0   0   0   0   0   0   0   0   0   0   0   0   0   0   0   0   \n",
      "5   0   0   0   0   0   0   0   0   0   0   0   0   0   0   0   0   0   0   0   \n",
      "\n",
      "   VT  WA  WI  WV  WY  1 year  10+ years  2 years  3 years  4 years  5 years  \\\n",
      "0   0   0   0   0   0       0          1        0        0        0        0   \n",
      "1   0   0   0   0   0       0          0        0        0        0        0   \n",
      "2   0   0   0   0   0       0          1        0        0        0        0   \n",
      "3   0   0   0   0   0       0          1        0        0        0        0   \n",
      "5   0   0   0   0   0       0          0        0        1        0        0   \n",
      "\n",
      "   6 years  7 years  8 years  9 years  < 1 year  n/a  A  B  C  D  E  F  G  \\\n",
      "0        0        0        0        0         0    0  0  1  0  0  0  0  0   \n",
      "1        0        0        0        0         1    0  0  0  1  0  0  0  0   \n",
      "2        0        0        0        0         0    0  0  0  1  0  0  0  0   \n",
      "3        0        0        0        0         0    0  0  0  1  0  0  0  0   \n",
      "5        0        0        0        0         0    0  1  0  0  0  0  0  0   \n",
      "\n",
      "   MORTGAGE  OWN  RENT  UNDEFINED  f  w  0.0  1.0  0.0  1.0  0.0  1.0  car  \\\n",
      "0         0    0     1          0  1  0    1    0    1    0    1    0    0   \n",
      "1         0    0     1          0  1  0    1    0    1    0    1    0    1   \n",
      "2         0    0     1          0  1  0    1    0    1    0    1    0    0   \n",
      "3         0    0     1          0  1  0    0    1    1    0    1    0    0   \n",
      "5         0    0     1          0  1  0    1    0    1    0    1    0    0   \n",
      "\n",
      "   credit_card  debt_consolidation  educational  home_improvement  house  \\\n",
      "0            1                   0            0                 0      0   \n",
      "1            0                   0            0                 0      0   \n",
      "2            0                   0            0                 0      0   \n",
      "3            0                   0            0                 0      0   \n",
      "5            0                   0            0                 0      0   \n",
      "\n",
      "   major_purchase  medical  moving  other  renewable_energy  small_business  \\\n",
      "0               0        0       0      0                 0               0   \n",
      "1               0        0       0      0                 0               0   \n",
      "2               0        0       0      0                 0               1   \n",
      "3               0        0       0      1                 0               0   \n",
      "5               0        0       0      0                 0               0   \n",
      "\n",
      "   vacation  wedding   36 months   60 months  \n",
      "0         0        0           1           0  \n",
      "1         0        0           0           1  \n",
      "2         0        0           1           0  \n",
      "3         0        0           1           0  \n",
      "5         0        1           1           0  \n"
     ]
    }
   ],
   "source": [
    "for x in get_dummy_list:\n",
    "    del df[x]\n",
    "print(df.head())"
   ]
  },
  {
   "cell_type": "code",
   "execution_count": 179,
   "metadata": {
    "collapsed": true
   },
   "outputs": [],
   "source": [
    "del df['earliest_cr_line']"
   ]
  },
  {
   "cell_type": "markdown",
   "metadata": {},
   "source": [
    "To avoid overfitting due to too many independent variables, i used PCA and reduced dimension of state varialbe(it created 51 variable when one-hot encoded) to 5. Though it might created better dimension reduction with MCA, i cuold not find appropriate python library for it"
   ]
  },
  {
   "cell_type": "code",
   "execution_count": 180,
   "metadata": {
    "collapsed": true
   },
   "outputs": [],
   "source": [
    "from sklearn.decomposition import PCA\n",
    "df_state = df.iloc[:, 13:64]\n",
    "pca = PCA(n_components=5)\n",
    "df_state_pca = pca.fit_transform(df_state)\n"
   ]
  },
  {
   "cell_type": "code",
   "execution_count": 181,
   "metadata": {
    "collapsed": true
   },
   "outputs": [],
   "source": [
    "lis = []\n",
    "for x in status_lis:\n",
    "    if x == 'charged_off':\n",
    "        lis.append(1.0)\n",
    "    elif x == 'fully_paid':\n",
    "        lis.append(2.0)\n",
    "    elif x == 'late': \n",
    "        lis.append(3.0)"
   ]
  },
  {
   "cell_type": "code",
   "execution_count": 182,
   "metadata": {
    "collapsed": true
   },
   "outputs": [],
   "source": [
    "df = df.drop(df.iloc[:, 13:64] ,axis=1)\n"
   ]
  },
  {
   "cell_type": "code",
   "execution_count": 183,
   "metadata": {
    "collapsed": true
   },
   "outputs": [],
   "source": [
    "X = np.array(df)\n",
    "X = np.concatenate((X, df_state_pca), axis=1)\n",
    "y = np.array(lis)"
   ]
  },
  {
   "cell_type": "code",
   "execution_count": 184,
   "metadata": {
    "collapsed": true
   },
   "outputs": [],
   "source": [
    "#y = np.reshape(y, (1, -1))"
   ]
  },
  {
   "cell_type": "code",
   "execution_count": 185,
   "metadata": {},
   "outputs": [
    {
     "name": "stdout",
     "output_type": "stream",
     "text": [
      "(274391,) (274391, 65)\n"
     ]
    }
   ],
   "source": [
    "print(y.shape, X.shape)"
   ]
  },
  {
   "cell_type": "code",
   "execution_count": 186,
   "metadata": {},
   "outputs": [
    {
     "name": "stdout",
     "output_type": "stream",
     "text": [
      "[ 2.  1.  2.  2.  2.  2.  1.  1.  2.  2.  1.  2.  1.  2.  2.  2.  2.  2.\n",
      "  2.  1.  2.  2.  1.  2.  1.  1.  2.  2.  2.  2.  2.  2.  2.  2.  2.  2.\n",
      "  2.  2.  2.  2.  2.  2.  1.  2.  2.  2.  1.  2.  2.  1.]\n"
     ]
    }
   ],
   "source": [
    "print(y[0:50])"
   ]
  },
  {
   "cell_type": "markdown",
   "metadata": {},
   "source": [
    "### Statistical model comparison\n",
    "To find whether X and y has linear relationship or non-linear relationship, i decided to use SVC-linear, SVC-polynomian, and Random Forest"
   ]
  },
  {
   "cell_type": "code",
   "execution_count": 187,
   "metadata": {
    "collapsed": true
   },
   "outputs": [],
   "source": [
    "from sklearn.model_selection import train_test_split, GridSearchCV, cross_val_score\n",
    "from sklearn.metrics import confusion_matrix, f1_score, classification_report\n",
    "from sklearn.metrics import precision_recall_curve, roc_auc_score, accuracy_score\n",
    "from sklearn.svm import SVC\n",
    "from sklearn.ensemble import RandomForestClassifier"
   ]
  },
  {
   "cell_type": "markdown",
   "metadata": {},
   "source": [
    "Used train_test_split twice to prevent leaking test set data (or overfitting)"
   ]
  },
  {
   "cell_type": "code",
   "execution_count": 188,
   "metadata": {
    "collapsed": true
   },
   "outputs": [],
   "source": [
    "X_trainval, X_test, y_trainval, y_test = train_test_split(X, y, random_state=0)\n",
    "X_train, X_valid, y_train, y_valid = train_test_split(X_trainval, y_trainval, random_state=0)"
   ]
  },
  {
   "cell_type": "code",
   "execution_count": 189,
   "metadata": {},
   "outputs": [
    {
     "name": "stdout",
     "output_type": "stream",
     "text": [
      "RF 0.739936617362\n"
     ]
    }
   ],
   "source": [
    "clf_RF = RandomForestClassifier(n_jobs= -1)\n",
    "clf_RF.fit(X_train, y_train)\n",
    "scores_RF = cross_val_score(clf_RF, X_valid, y_valid, cv=3)\n",
    "\n",
    "print('RF', scores_RF.mean())"
   ]
  },
  {
   "cell_type": "markdown",
   "metadata": {},
   "source": [
    "Random Forest model generated 83% of prediction accuracy on test data set"
   ]
  },
  {
   "cell_type": "code",
   "execution_count": 190,
   "metadata": {},
   "outputs": [
    {
     "name": "stdout",
     "output_type": "stream",
     "text": [
      "0.741989562378\n"
     ]
    }
   ],
   "source": [
    "print(clf_RF.score(X_test, y_test))"
   ]
  },
  {
   "cell_type": "code",
   "execution_count": 191,
   "metadata": {},
   "outputs": [
    {
     "data": {
      "text/plain": [
       "array([ 2.,  2.,  2., ...,  2.,  2.,  1.])"
      ]
     },
     "execution_count": 191,
     "metadata": {},
     "output_type": "execute_result"
    }
   ],
   "source": [
    "clf_RF.predict(X_test)"
   ]
  },
  {
   "cell_type": "code",
   "execution_count": 192,
   "metadata": {},
   "outputs": [
    {
     "name": "stdout",
     "output_type": "stream",
     "text": [
      "             precision    recall  f1-score   support\n",
      "\n",
      "        1.0       0.33      0.16      0.22     11258\n",
      "        2.0       0.78      0.94      0.85     51944\n",
      "        3.0       0.32      0.06      0.10      5396\n",
      "\n",
      "avg / total       0.67      0.74      0.69     68598\n",
      "\n"
     ]
    }
   ],
   "source": [
    "print(classification_report(y_test, clf_RF.predict(X_test)))"
   ]
  },
  {
   "cell_type": "markdown",
   "metadata": {},
   "source": [
    "In the case of SVC model, i could not run them due to lack of computational capability"
   ]
  },
  {
   "cell_type": "code",
   "execution_count": 193,
   "metadata": {
    "collapsed": true
   },
   "outputs": [],
   "source": [
    "#clf_SVC_lin = SVC(kernel = 'linear')\n",
    "#clf_SVC_lin.fit(X_train, y_train)\n",
    "\n",
    "#scores_lin = cross_val_score(clf_SVC_lin, X_valid, y_valid, cv=3)\n",
    "#print('lin', scores_lin.mean())"
   ]
  },
  {
   "cell_type": "code",
   "execution_count": 194,
   "metadata": {
    "collapsed": true
   },
   "outputs": [],
   "source": [
    "#clf_SVC_poly = SVC(kernel = 'poly')\n",
    "#clf_SVC_poly.fit(X_train, y_train)\n",
    "#scores_poly = cross_val_score(clf_SVC_poly, X_valid, y_valid, cv=3)\n",
    "#print('poly', scores_poly.mean())"
   ]
  },
  {
   "cell_type": "markdown",
   "metadata": {
    "collapsed": true
   },
   "source": [
    "I tried to predict using Tensorflow"
   ]
  },
  {
   "cell_type": "code",
   "execution_count": 205,
   "metadata": {
    "collapsed": true
   },
   "outputs": [],
   "source": [
    "import tensorflow as tf"
   ]
  },
  {
   "cell_type": "code",
   "execution_count": 202,
   "metadata": {
    "collapsed": true
   },
   "outputs": [],
   "source": [
    "x_data = X"
   ]
  },
  {
   "cell_type": "code",
   "execution_count": 200,
   "metadata": {},
   "outputs": [],
   "source": [
    "import sklearn.preprocessing\n",
    "lis1=map(int, lis)\n",
    "label_binarizer = sklearn.preprocessing.LabelBinarizer()\n",
    "label_binarizer.fit(range(max(lis1)+1))\n",
    "b = label_binarizer.transform(lis)\n",
    "y_data = np.delete(b, 0, 1)"
   ]
  },
  {
   "cell_type": "code",
   "execution_count": 203,
   "metadata": {},
   "outputs": [],
   "source": [
    "X_train, X_test, y_train, y_test = train_test_split(x_data, y_data, random_state=0)"
   ]
  },
  {
   "cell_type": "code",
   "execution_count": 210,
   "metadata": {},
   "outputs": [],
   "source": [
    "tf.reset_default_graph()"
   ]
  },
  {
   "cell_type": "code",
   "execution_count": 211,
   "metadata": {},
   "outputs": [
    {
     "name": "stdout",
     "output_type": "stream",
     "text": [
      "Loss : 0.742873\n",
      "Loss : 0.631888\n",
      "Loss : 0.628784\n",
      "Loss : 0.627475\n",
      "Loss : 0.624059\n",
      "Loss : 0.623395\n",
      "Loss : 0.622034\n",
      "Loss : 0.621275\n",
      "Loss : 0.620051\n",
      "Loss : 0.619722\n",
      "Loss : 0.62225\n",
      "Loss : 0.618924\n",
      "Loss : 0.618039\n",
      "Loss : 0.619123\n",
      "Loss : 0.6179\n",
      "Loss : 0.6183\n",
      "Loss : 0.617306\n",
      "Loss : 0.618518\n",
      "Loss : 0.616966\n",
      "Loss : 0.61685\n",
      "Learning Finished!\n",
      "Accuracy: 0.763083\n"
     ]
    }
   ],
   "source": [
    "learning_rate = 0.01\n",
    "\n",
    "# input place holders\n",
    "X = tf.placeholder(\"float\", [None, 65])\n",
    "Y = tf.placeholder(\"float\", [None, 3])\n",
    "\n",
    "\n",
    "# weights & bias for nn layers\n",
    "# http://stackoverflow.com/questions/33640581/how-to-do-xavier-initialization-on-tensorflow\n",
    "W1 = tf.get_variable(\"W1\", shape=[65, 30],\n",
    "                     initializer=tf.contrib.layers.xavier_initializer())\n",
    "b1 = tf.Variable(tf.random_normal([30]))\n",
    "L1 = tf.nn.relu(tf.matmul(X, W1) + b1)\n",
    "\n",
    "W2 = tf.get_variable(\"W2\", shape=[30, 15],\n",
    "                     initializer=tf.contrib.layers.xavier_initializer())\n",
    "b2 = tf.Variable(tf.random_normal([15]))\n",
    "L2 = tf.nn.relu(tf.matmul(L1, W2) + b2)\n",
    "\n",
    "W3 = tf.get_variable(\"W3\", shape=[15, 10],\n",
    "                     initializer=tf.contrib.layers.xavier_initializer())\n",
    "b3 = tf.Variable(tf.random_normal([10]))\n",
    "L3 = tf.nn.relu(tf.matmul(L2, W3) + b3)\n",
    "\n",
    "W4 = tf.get_variable(\"W4\", shape=[10, 3],\n",
    "                     initializer=tf.contrib.layers.xavier_initializer())\n",
    "b4 = tf.Variable(tf.random_normal([3]))\n",
    "\n",
    "hypothesis = tf.matmul(L3, W4) + b4\n",
    "\n",
    "# define cost/loss & optimizer\n",
    "cost = tf.reduce_mean(tf.nn.softmax_cross_entropy_with_logits(\n",
    "    logits=hypothesis, labels=Y))\n",
    "optimizer = tf.train.AdamOptimizer(learning_rate=learning_rate).minimize(cost)\n",
    "\n",
    "# initialize\n",
    "sess = tf.Session()\n",
    "sess.run(tf.global_variables_initializer())\n",
    "\n",
    "correct_prediction = tf.equal(tf.argmax(hypothesis, 1), tf.argmax(Y, 1))\n",
    "accuracy = tf.reduce_mean(tf.cast(correct_prediction, tf.float32))\n",
    "# train my model\n",
    "with tf.Session() as sess:\n",
    "    sess.run(tf.global_variables_initializer())\n",
    "\n",
    "    for step in range(2000):\n",
    "        sess.run(optimizer, feed_dict={X: X_train, Y: y_train})\n",
    "        if step % 100 == 0:\n",
    "            \n",
    "            loss = sess.run(cost, feed_dict={X: X_train, Y: y_train})\n",
    "            print('Loss :', loss )\n",
    "    print('Learning Finished!')      \n",
    "    print('Accuracy:', sess.run(accuracy, feed_dict={\n",
    "      X: X_test, Y: y_test}))\n",
    "\n",
    "\n",
    "# Test model and check accuracy\n",
    "\n"
   ]
  },
  {
   "cell_type": "markdown",
   "metadata": {
    "collapsed": true
   },
   "source": [
    "### Model Selection (Deep Learning Model !)"
   ]
  },
  {
   "cell_type": "markdown",
   "metadata": {},
   "source": [
    "Random Forest gives 73% of prediction score, while deep learning gives 76%\n",
    "To increase prediction score and compare prediction results more ccurately, further fine_tuning of statisctical model is needed. But due to the lack of computational resource, i temporarily decides to use Deep Learning Model for now"
   ]
  },
  {
   "cell_type": "code",
   "execution_count": null,
   "metadata": {
    "collapsed": true
   },
   "outputs": [],
   "source": []
  }
 ],
 "metadata": {
  "kernelspec": {
   "display_name": "Python [default]",
   "language": "python",
   "name": "python3"
  },
  "language_info": {
   "codemirror_mode": {
    "name": "ipython",
    "version": 3
   },
   "file_extension": ".py",
   "mimetype": "text/x-python",
   "name": "python",
   "nbconvert_exporter": "python",
   "pygments_lexer": "ipython3",
   "version": "3.6.3"
  }
 },
 "nbformat": 4,
 "nbformat_minor": 2
}
