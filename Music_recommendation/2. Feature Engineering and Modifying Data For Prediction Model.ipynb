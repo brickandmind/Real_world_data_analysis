{
 "cells": [
  {
   "cell_type": "markdown",
   "metadata": {},
   "source": [
    "# 2. Feature Engineering and Modifying Data For Prediction Model"
   ]
  },
  {
   "cell_type": "code",
   "execution_count": 1,
   "metadata": {
    "collapsed": true
   },
   "outputs": [],
   "source": [
    "import pandas as pd\n",
    "import numpy as np"
   ]
  },
  {
   "cell_type": "markdown",
   "metadata": {},
   "source": [
    "### Compare Train Data Set and Test Data Set"
   ]
  },
  {
   "cell_type": "code",
   "execution_count": 27,
   "metadata": {
    "collapsed": true
   },
   "outputs": [],
   "source": [
    "test = pd.read_csv('test.csv', encoding = 'utf-8')\n",
    "train = pd.read_csv('train.csv', encoding = 'utf-8')\n",
    "songs = pd.read_csv('songs.csv', encoding = 'utf-8')\n",
    "members = pd.read_csv('members.csv', encoding = 'utf-8')"
   ]
  },
  {
   "cell_type": "code",
   "execution_count": 3,
   "metadata": {
    "collapsed": true
   },
   "outputs": [],
   "source": [
    "def compare_test_train(col):\n",
    "    set_train = set(train[col])\n",
    "    set_test = set(test[col])\n",
    "    i = len(set_test - set_train -set([None]))\n",
    "    print('number of test set  %s, not in train set' % col, ':', i)\n",
    "    \n",
    "def compare_train_test(col):\n",
    "    set_train = set(train[col])\n",
    "    set_test = set(test[col])\n",
    "    i = len(set_train - set_test -set([None]))\n",
    "    print('number of train set  %s, not in test set' % col, ':', i)"
   ]
  },
  {
   "cell_type": "code",
   "execution_count": 37,
   "metadata": {},
   "outputs": [],
   "source": [
    "data_sum = [test, train]\n",
    "for df in data_sum:\n",
    "    df1 = pd.merge(df, songs, on='song_id')\n",
    "    df2 = pd.merge(df1, members, on='msno')\n",
    "    del df2['language']\n",
    "    if len(df2) > 7000000:\n",
    "        train = df2\n",
    "    else:\n",
    "        test = df2\n"
   ]
  },
  {
   "cell_type": "code",
   "execution_count": 34,
   "metadata": {},
   "outputs": [
    {
     "data": {
      "text/plain": [
       "Index(['id', 'msno', 'song_id', 'source_system_tab', 'source_screen_name',\n",
       "       'source_type', 'song_length', 'genre_ids', 'artist_name', 'composer',\n",
       "       'lyricist', 'city', 'bd', 'gender', 'registered_via',\n",
       "       'registration_init_time', 'expiration_date'],\n",
       "      dtype='object')"
      ]
     },
     "execution_count": 34,
     "metadata": {},
     "output_type": "execute_result"
    }
   ],
   "source": [
    "test.columns"
   ]
  },
  {
   "cell_type": "code",
   "execution_count": 43,
   "metadata": {},
   "outputs": [],
   "source": [
    "train = train.fillna('no_value')\n",
    "test = test.fillna('no_value')"
   ]
  },
  {
   "cell_type": "code",
   "execution_count": 46,
   "metadata": {},
   "outputs": [
    {
     "name": "stdout",
     "output_type": "stream",
     "text": [
      "number of train set  source_system_tab, not in test set : 0\n",
      "number of train set  source_screen_name, not in test set : 0\n",
      "number of train set  source_type, not in test set : 0\n",
      "number of train set  city, not in test set : 0\n",
      "number of train set  gender, not in test set : 0\n",
      "number of train set  registered_via, not in test set : 0\n",
      "number of test set  source_system_tab, not in train set : 0\n",
      "number of test set  source_screen_name, not in train set : 2\n",
      "number of test set  source_type, not in train set : 0\n",
      "number of test set  city, not in train set : 0\n",
      "number of test set  gender, not in train set : 0\n",
      "number of test set  registered_via, not in train set : 1\n"
     ]
    }
   ],
   "source": [
    "category_var = ['source_system_tab', 'source_screen_name', 'source_type', 'city', 'gender', 'registered_via']\n",
    "\n",
    "for var in category_var:\n",
    "    compare_train_test(var)\n",
    "for var in category_var:\n",
    "    compare_test_train(var)\n",
    "    "
   ]
  },
  {
   "cell_type": "code",
   "execution_count": 47,
   "metadata": {},
   "outputs": [
    {
     "name": "stdout",
     "output_type": "stream",
     "text": [
      "Source screen name not in train set :  {'People local', 'People global'}\n",
      "registered_via name not in train set :  {16}\n"
     ]
    }
   ],
   "source": [
    "SCN = set(test['source_screen_name']) - set(train['source_screen_name'])\n",
    "RV = set(test['registered_via']) - set(train['registered_via'])\n",
    "print('Source screen name not in train set : ' , SCN)\n",
    "print('registered_via name not in train set : ' ,RV)"
   ]
  },
  {
   "cell_type": "code",
   "execution_count": 48,
   "metadata": {},
   "outputs": [
    {
     "name": "stdout",
     "output_type": "stream",
     "text": [
      "registered_via\n"
     ]
    }
   ],
   "source": [
    "lis = ['source_screen_name', 'registered_via']\n",
    "for x in lis:\n",
    "    if 'no_value' not in  set(train[x]):\n",
    "        print(x)"
   ]
  },
  {
   "cell_type": "code",
   "execution_count": 49,
   "metadata": {},
   "outputs": [
    {
     "data": {
      "text/plain": [
       "registered_via\n",
       "3     418944\n",
       "4     274347\n",
       "7     901190\n",
       "9     955103\n",
       "13      7179\n",
       "16         2\n",
       "dtype: int64"
      ]
     },
     "execution_count": 49,
     "metadata": {},
     "output_type": "execute_result"
    }
   ],
   "source": [
    "test.groupby(['registered_via']).size()"
   ]
  },
  {
   "cell_type": "code",
   "execution_count": 50,
   "metadata": {
    "collapsed": true
   },
   "outputs": [],
   "source": [
    "lis = {'People global', 'People local'}\n",
    "\n",
    "for x in lis:\n",
    "    test['source_screen_name'] = test['source_screen_name'].replace(x, 'no_value')\n",
    "\n",
    "test = test[test['registered_via'] != 16]"
   ]
  },
  {
   "cell_type": "markdown",
   "metadata": {},
   "source": [
    "### Feature Engineering"
   ]
  },
  {
   "cell_type": "code",
   "execution_count": 51,
   "metadata": {
    "collapsed": true
   },
   "outputs": [],
   "source": [
    "def msno_count(df):\n",
    "    df1 = df.groupby('msno').size()\n",
    "    df1= df1.reset_index()\n",
    "    df1.columns = ['msno', '#listened']\n",
    "    return df1\n",
    "\n",
    "# song_id, song_length\n",
    "def mean_count_var(df, var):\n",
    "    df1 = df[[var, 'msno']].groupby([var]).agg(['count'])\n",
    "    df1 = df1.reset_index()\n",
    "    df1.columns = [var, 'count']\n",
    "    return df1\n",
    "\n",
    "# genre_ids, lyricist, composer, artist_name\n",
    "def player_preference(df, var, preference_by):\n",
    "    df1 = df[['msno', var]].groupby(['msno', var]).size()\n",
    "    df1 = df1.reset_index()\n",
    "    df1.columns = ['msno', var, preference_by ]\n",
    "    return df1\n",
    "    #df1 = pd.merge(train, df, on = ['msno', var], how='left')\n",
    "\n",
    "#몇명의 작곡가가 만들었나\n",
    "#genre_ids, composer\n",
    "def count_vals(x):\n",
    "    if type(x) != str:\n",
    "        return 1\n",
    "    else:\n",
    "        return 1 + x.count('|')\n"
   ]
  },
  {
   "cell_type": "code",
   "execution_count": 52,
   "metadata": {
    "collapsed": true
   },
   "outputs": [],
   "source": [
    "data_sum = [test, train]"
   ]
  },
  {
   "cell_type": "code",
   "execution_count": null,
   "metadata": {
    "collapsed": true
   },
   "outputs": [],
   "source": [
    "for df in data_sum:\n",
    "    df1 = pd.merge(df, msno_count(df), on = 'msno')\n",
    "    df2 = pd.merge(df, mean_count_var(df, 'song_id'), on = 'song_id')\n",
    "    df3 = pd.merge(df, mean_count_var(df, 'song_length'), on = 'song_length')\n",
    "    if len(df) > 7000000:\n",
    "        train = df3\n",
    "    else:\n",
    "        test = df3"
   ]
  },
  {
   "cell_type": "code",
   "execution_count": null,
   "metadata": {
    "collapsed": true
   },
   "outputs": [],
   "source": [
    "for df in data_sum:\n",
    "    df1 = pd.merge(df,  player_preference(df, 'genre_ids', 'by_genre'), on = ['msno', 'genre_ids'], how = 'left')\n",
    "    df2 = pd.merge(df1,  player_preference(df, 'lyricist', 'by_lyricist'), on = ['msno', 'lyricist'], how = 'left')\n",
    "    df3 = pd.merge(df2,  player_preference(df, 'composer', 'by_composer'), on = ['msno', 'composer'], how = 'left')\n",
    "    df4 = pd.merge(df3,  player_preference(df, 'artist_name', 'by_artist'), on = ['msno', 'artist_name'], how = 'left')\n",
    "    if len(df) > 7000000:\n",
    "        train = df4\n",
    "    else:\n",
    "        test = df4"
   ]
  },
  {
   "cell_type": "code",
   "execution_count": null,
   "metadata": {
    "collapsed": true
   },
   "outputs": [],
   "source": [
    "train['number_of_genre'] =  train['genre_ids'].apply(count_vals)\n",
    "train['number_of_composer'] =  train['composer'].apply(count_vals)\n",
    "\n",
    "test['number_of_genre'] =  test['genre_ids'].apply(count_vals)\n",
    "test['number_of_composer'] =  test['composer'].apply(count_vals)"
   ]
  },
  {
   "cell_type": "code",
   "execution_count": null,
   "metadata": {
    "collapsed": true
   },
   "outputs": [],
   "source": [
    "test = test[test['number_of_composer'] < 30]\n",
    "test = test[test['bd'] > -1]\n",
    "test = test[test['bd'] < 70]\n",
    "\n",
    "train = train[train['number_of_composer'] < 30]\n",
    "train = train[train['bd'] > -1]\n",
    "train = train[train['bd'] < 70]"
   ]
  },
  {
   "cell_type": "code",
   "execution_count": null,
   "metadata": {
    "collapsed": true
   },
   "outputs": [],
   "source": [
    "source_system_tab_test = pd.get_dummies(test['source_system_tab'], drop_first = True)\n",
    "source_screen_name_test = pd.get_dummies(test['source_screen_name'], drop_first = True)\n",
    "source_type_test = pd.get_dummies(test['source_type'], drop_first = True)\n",
    "city_test = pd.get_dummies(test['city'], drop_first = True)\n",
    "gendera_test = pd.get_dummies(test['gender'], drop_first = True)\n",
    "registered_test = pd.get_dummies(test['registered_via'], drop_first = True)"
   ]
  },
  {
   "cell_type": "code",
   "execution_count": null,
   "metadata": {
    "collapsed": true
   },
   "outputs": [],
   "source": [
    "test = test[['song_length', 'bd', '#listened', 'count_x', 'count_y', 'by_genre', 'by_lyricist',\n",
    "             'by_composer', 'by_artist', 'number_of_genre', 'number_of_composer']]"
   ]
  },
  {
   "cell_type": "code",
   "execution_count": null,
   "metadata": {
    "collapsed": true
   },
   "outputs": [],
   "source": [
    "frame = [test, source_system_tab_test , source_screen_name_test, source_type_test, \n",
    "         city_test, gender_test, registered_via_test]\n",
    "test = pd.concat(frame, axis = 1)"
   ]
  },
  {
   "cell_type": "code",
   "execution_count": null,
   "metadata": {
    "collapsed": true
   },
   "outputs": [],
   "source": [
    "test.to_csv('test_final', encoding = 'utf-8', index=False)"
   ]
  },
  {
   "cell_type": "code",
   "execution_count": null,
   "metadata": {
    "collapsed": true
   },
   "outputs": [],
   "source": [
    "i = 0\n",
    "for x in range(500000, 7000001, 500000):\n",
    "    i += 1\n",
    "    x1 = x-500000\n",
    "    df = train.iloc[x1:x, :]\n",
    "    df.to_csv('train%s' %i, encoding = 'utf-8', index=False)\n",
    "    \n",
    "df = train.iloc[7000000:,:]\n",
    "df.to_csv('train15', encoding = 'utf-8', index = False)"
   ]
  },
  {
   "cell_type": "code",
   "execution_count": null,
   "metadata": {
    "collapsed": true
   },
   "outputs": [],
   "source": [
    "def to_cat(i):\n",
    "    df = pd.read_csv('train%s' %i, encoding = 'utf-8')\n",
    "    source_system_tab = pd.get_dummies(df['source_system_tab'], drop_first = True)\n",
    "    source_screen_name = pd.get_dummies(df['source_screen_name'], drop_first = True)\n",
    "    source_type = pd.get_dummies(df['source_type'], drop_first = True)\n",
    "    city = pd.get_dummies(df['city'], drop_first = True)\n",
    "    gender = pd.get_dummies(df['gender'], drop_first = True)\n",
    "    registered_via = pd.get_dummies(df['registered_via'], drop_first = True)\n",
    "    \n",
    "    df = df[['target','song_length', 'bd', '#listened', 'count', 'count1', 'by_genre',\n",
    "       'by_lyricist', 'by_composer', 'by_artist', 'number_of_genre',\n",
    "       'number_of_composer']]\n",
    "    frame = [df, source_system_tab , source_screen_name, source_type, city, gender, registered_via]\n",
    "    df1 = pd.concat(frame, axis = 1)\n",
    "    df1.to_csv('train_final%s' %i, encoding = 'utf-8', index = False)\n",
    "    \n",
    "    "
   ]
  },
  {
   "cell_type": "code",
   "execution_count": null,
   "metadata": {
    "collapsed": true
   },
   "outputs": [],
   "source": [
    "for x in range(1, 16):\n",
    "    to_cat(x)"
   ]
  },
  {
   "cell_type": "markdown",
   "metadata": {},
   "source": [
    "## Create Train Data Set and Evaluation(test) Data Set"
   ]
  },
  {
   "cell_type": "code",
   "execution_count": null,
   "metadata": {
    "collapsed": true
   },
   "outputs": [],
   "source": [
    "train = pd.read_csv('train_final1', encoding = 'utf-8')\n",
    "for i in range(2,16):\n",
    "    df = pd.read_csv('train_final%s' %i, encoding = 'utf-8')\n",
    "    train = pd.concat([train, df])"
   ]
  },
  {
   "cell_type": "code",
   "execution_count": null,
   "metadata": {
    "collapsed": true
   },
   "outputs": [],
   "source": [
    "train.columns"
   ]
  },
  {
   "cell_type": "code",
   "execution_count": null,
   "metadata": {
    "collapsed": true
   },
   "outputs": [],
   "source": [
    "y = train['target']\n",
    "del train['target']\n",
    "X = train"
   ]
  },
  {
   "cell_type": "code",
   "execution_count": null,
   "metadata": {
    "collapsed": true
   },
   "outputs": [],
   "source": [
    "from sklearn.model_selection import train_test_split\n",
    "X_train, X_test, y_train, y_test = train_test_split(X, y, test_size=0.33)\n",
    "\n",
    "np.save(\"X_train\", X_train)\n",
    "np.save(\"X_test\", X_test)\n",
    "np.save(\"y_train\", y_train)\n",
    "np.save(\"y_test\", y_test)"
   ]
  },
  {
   "cell_type": "code",
   "execution_count": null,
   "metadata": {
    "collapsed": true
   },
   "outputs": [],
   "source": [
    "test = pd.read_csv('test_final')\n",
    "test = test.reindex_axis(sorted(test.columns), axis=1)\n",
    "test = np.array(test)\n",
    "np.save('X_test_input', test)"
   ]
  }
 ],
 "metadata": {
  "kernelspec": {
   "display_name": "Python 3",
   "language": "python",
   "name": "python3"
  },
  "language_info": {
   "codemirror_mode": {
    "name": "ipython",
    "version": 3
   },
   "file_extension": ".py",
   "mimetype": "text/x-python",
   "name": "python",
   "nbconvert_exporter": "python",
   "pygments_lexer": "ipython3",
   "version": "3.6.3"
  }
 },
 "nbformat": 4,
 "nbformat_minor": 2
}
